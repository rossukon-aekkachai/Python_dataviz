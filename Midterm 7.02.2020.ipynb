{
 "cells": [
  {
   "cell_type": "markdown",
   "metadata": {},
   "source": [
    "## 1> สร้าง function ชื่อ smartDict ซึ่งทำหน้าที่:\n",
    "\n",
    "- function รับ input เป็น list 2 ตัวที่มีขนาดเท่ากัน โดย list แรกเป็น list ของตัวเลข list ที่สองเป็น list ของ text\n",
    "- ถ้าค่าใน list แรกเป็นเลขคี่ ให้ค่าใน dict ที่เป็น output มี key เป็นค่าจาก list ตัวที่ 1 และ value จาก list ตัวที่ 2\n",
    "- ถ้าค่าใน list แรกเป็นเลขคู่ ให้ค่าใน dict ที่เป็น output มี key เป็นค่าจาก list ตัวที่ 2 และ value จาก list ตัวที่ 1\n",
    "- output ของ function คือ dict ที่สร้างขึ้น\n",
    "\n",
    "เช่น\n",
    "\n",
    "output1 = smartDict([ 1 , 2 , 3],[ 'apple' , 'banana' , 'orange'])\n",
    "\n",
    "จะได้ output1 เป็น { 1 :'apple' , 'banana' : 2, 3 :'orange'}"
   ]
  },
  {
   "cell_type": "markdown",
   "metadata": {},
   "source": [
    "#### วิธีที่ 1 ได้  output เป็น {1: 'apple', 2: 'banana', 3: 'orange'}"
   ]
  },
  {
   "cell_type": "code",
   "execution_count": 455,
   "metadata": {},
   "outputs": [],
   "source": [
    "def smartDict(l_text,l_number,logicV):\n",
    "    if logicV: #logicV == True\n",
    "        retdict = {}\n",
    "        for i in range(len(l_text)):\n",
    "            retdict[l_number[i]] = l_text[i]                \n",
    "    else:\n",
    "        retdict = {}\n",
    "        for i in range(len(l_text)):\n",
    "            retdict[l_text[i]] = l_number[i]\n",
    "          \n",
    "            \n",
    "    return retdict    "
   ]
  },
  {
   "cell_type": "code",
   "execution_count": 456,
   "metadata": {},
   "outputs": [
    {
     "data": {
      "text/plain": [
       "{1: 'apple', 2: 'banana', 3: 'orange'}"
      ]
     },
     "execution_count": 456,
     "metadata": {},
     "output_type": "execute_result"
    }
   ],
   "source": [
    "smartDict(['apple','banana','orange'],[1,2,3],True)"
   ]
  },
  {
   "cell_type": "markdown",
   "metadata": {},
   "source": [
    "#### วิธีที่ 2 ได้  output เป็น {1: 'apple', 'apple': 1, 2: 'banana', 'banana': 2, 3: 'orange', 'orange': 3}"
   ]
  },
  {
   "cell_type": "code",
   "execution_count": 472,
   "metadata": {},
   "outputs": [],
   "source": [
    "def smartDict(l_text,l_number,logicV):\n",
    "    if logicV: #logicV == True\n",
    "        retdict = {}\n",
    "        for i in range(len(l_text)):\n",
    "            retdict[l_number[i]] = l_text[i]\n",
    "            retdict[l_text[i]] = l_number[i]            \n",
    "            \n",
    "                    \n",
    "    else:\n",
    "        retdict = {}\n",
    "        for i in range(len(l_text)):\n",
    "            retdict[l_text[i]] = l_number[i]\n",
    "            retdict[l_number[i]] = l_text[i]\n",
    "            \n",
    "    return retdict        \n"
   ]
  },
  {
   "cell_type": "code",
   "execution_count": 473,
   "metadata": {},
   "outputs": [
    {
     "data": {
      "text/plain": [
       "{1: 'apple', 'apple': 1, 2: 'banana', 'banana': 2, 3: 'orange', 'orange': 3}"
      ]
     },
     "execution_count": 473,
     "metadata": {},
     "output_type": "execute_result"
    }
   ],
   "source": [
    "smartDict(['apple','banana','orange'],[1,2,3],True)"
   ]
  },
  {
   "cell_type": "markdown",
   "metadata": {},
   "source": [
    "## 2> จากไฟล์ \"Wuhan_nCoV_GNome.txt\" จงเขียนเขียนโปรแกรมเพื่อตอบคำถามต่อไปนี้\n",
    " \n",
    "- กรดอะมิโนใด(A, T, G, C) มีปริมาณมากที่สุดและมีเท่าใด\n",
    "- จงหา sequence ที่มีขนาด 3 และ 4 ที่เกิดขึ้นซ้ำกันมากที่สุด"
   ]
  },
  {
   "cell_type": "code",
   "execution_count": 39,
   "metadata": {},
   "outputs": [],
   "source": [
    "import pandas as pd"
   ]
  },
  {
   "cell_type": "code",
   "execution_count": 40,
   "metadata": {},
   "outputs": [],
   "source": [
    "DNA_df = pd.read_csv('Wuhan_nCoV_GNome.txt',header=None)"
   ]
  },
  {
   "cell_type": "markdown",
   "metadata": {},
   "source": [
    "### 2.1 กรดอะมิโนใด(A, T, G, C) มีปริมาณมากที่สุดและมีเท่าใด"
   ]
  },
  {
   "cell_type": "code",
   "execution_count": 48,
   "metadata": {},
   "outputs": [
    {
     "data": {
      "text/plain": [
       "11"
      ]
     },
     "execution_count": 48,
     "metadata": {},
     "output_type": "execute_result"
    }
   ],
   "source": [
    "len('ATTTATAGCGC')  "
   ]
  },
  {
   "cell_type": "code",
   "execution_count": 49,
   "metadata": {},
   "outputs": [],
   "source": [
    "DNAlong = 0\n",
    "for i in range(len(DNA_df)):\n",
    "    DNAlong = DNAlong+len(DNA_df.iloc[i][0]) # DNAlong += len(DNA_df.iloc[i][0])"
   ]
  },
  {
   "cell_type": "code",
   "execution_count": 50,
   "metadata": {},
   "outputs": [
    {
     "name": "stdout",
     "output_type": "stream",
     "text": [
      "sequence is 29903 characters long\n"
     ]
    }
   ],
   "source": [
    "print(f'sequence is {DNAlong} characters long')"
   ]
  },
  {
   "cell_type": "code",
   "execution_count": 51,
   "metadata": {},
   "outputs": [],
   "source": [
    "def char1(seq,char):\n",
    "    charcount = 0\n",
    "    for i in seq :\n",
    "        if i == char:\n",
    "            charcount += 1\n",
    "    return charcount"
   ]
  },
  {
   "cell_type": "code",
   "execution_count": 52,
   "metadata": {},
   "outputs": [
    {
     "data": {
      "text/plain": [
       "19"
      ]
     },
     "execution_count": 52,
     "metadata": {},
     "output_type": "execute_result"
    }
   ],
   "source": [
    "char1(DNA_df.iloc[1][0],'A')"
   ]
  },
  {
   "cell_type": "code",
   "execution_count": 53,
   "metadata": {},
   "outputs": [
    {
     "name": "stdout",
     "output_type": "stream",
     "text": [
      "A = 8954 T = 9594 G =5863 C = 5492\n"
     ]
    }
   ],
   "source": [
    "Along = 0\n",
    "Tlong = 0\n",
    "Glong = 0\n",
    "Clong = 0\n",
    "for i in range(len(DNA_df)):\n",
    "    Along += char1(DNA_df.iloc[i][0],'A')\n",
    "    Tlong += char1(DNA_df.iloc[i][0],'T')\n",
    "    Glong += char1(DNA_df.iloc[i][0],'G')\n",
    "    Clong += char1(DNA_df.iloc[i][0],'C')\n",
    "print(f'A = {Along} T = {Tlong} G ={Glong} C = {Clong}')"
   ]
  },
  {
   "cell_type": "markdown",
   "metadata": {},
   "source": [
    "### 2.2 จงหา sequence ที่มีขนาด 3 และ 4 ที่เกิดขึ้นซ้ำกันมากที่สุด"
   ]
  },
  {
   "cell_type": "markdown",
   "metadata": {},
   "source": [
    "####  sequence ที่มีขนาด 3"
   ]
  },
  {
   "cell_type": "code",
   "execution_count": 62,
   "metadata": {},
   "outputs": [],
   "source": [
    "def str1(seq):\n",
    "    str11 = []\n",
    "    for i in range(len(seq)-2):\n",
    "        str11.append(seq[i:i+3])\n",
    "    return str11"
   ]
  },
  {
   "cell_type": "code",
   "execution_count": 63,
   "metadata": {},
   "outputs": [
    {
     "data": {
      "text/plain": [
       "['ATT', 'TTT', 'TTA', 'TAT', 'ATA', 'TAG', 'AGC', 'GCG', 'CGC']"
      ]
     },
     "execution_count": 63,
     "metadata": {},
     "output_type": "execute_result"
    }
   ],
   "source": [
    "str1(listp)"
   ]
  },
  {
   "cell_type": "code",
   "execution_count": 64,
   "metadata": {},
   "outputs": [],
   "source": [
    "liststr3 = []\n",
    "for i in range(len(DNA_df)):\n",
    "    liststr3 += str1(DNA_df.iloc[i][0])"
   ]
  },
  {
   "cell_type": "code",
   "execution_count": 65,
   "metadata": {},
   "outputs": [
    {
     "data": {
      "text/plain": [
       "29047"
      ]
     },
     "execution_count": 65,
     "metadata": {},
     "output_type": "execute_result"
    }
   ],
   "source": [
    "len(liststr3)"
   ]
  },
  {
   "cell_type": "code",
   "execution_count": 66,
   "metadata": {},
   "outputs": [],
   "source": [
    "unique_3char=set(liststr3) # กำจัดตัวที่ซ่ำ"
   ]
  },
  {
   "cell_type": "code",
   "execution_count": 67,
   "metadata": {},
   "outputs": [
    {
     "data": {
      "text/plain": [
       "64"
      ]
     },
     "execution_count": 67,
     "metadata": {},
     "output_type": "execute_result"
    }
   ],
   "source": [
    "len(unique_3char)"
   ]
  },
  {
   "cell_type": "code",
   "execution_count": 68,
   "metadata": {},
   "outputs": [],
   "source": [
    "dict_3char = {}\n",
    "for i in unique_3char:\n",
    "    num = 0\n",
    "    for j in liststr3:\n",
    "        if i == j:\n",
    "            num += 1\n",
    "    dict_3char[i] = num"
   ]
  },
  {
   "cell_type": "code",
   "execution_count": 69,
   "metadata": {},
   "outputs": [
    {
     "data": {
      "text/plain": [
       "540"
      ]
     },
     "execution_count": 69,
     "metadata": {},
     "output_type": "execute_result"
    }
   ],
   "source": [
    "dict_3char['TGG']"
   ]
  },
  {
   "cell_type": "code",
   "execution_count": 70,
   "metadata": {},
   "outputs": [],
   "source": [
    "MaxV = -100\n",
    "Maxkey = None\n",
    "for i in dict_3char.keys():\n",
    "    if dict_3char[i] > MaxV:\n",
    "        MaxV = dict_3char[i]\n",
    "        Maxkey = i"
   ]
  },
  {
   "cell_type": "code",
   "execution_count": 73,
   "metadata": {},
   "outputs": [
    {
     "name": "stdout",
     "output_type": "stream",
     "text": [
      "Max 3-char-long sequence is TTT with frequency equals 984\n"
     ]
    }
   ],
   "source": [
    "print(f'Max 3-char-long sequence is {Maxkey} with frequency equals {MaxV}')"
   ]
  },
  {
   "cell_type": "markdown",
   "metadata": {},
   "source": [
    "####  sequence ที่มีขนาด 4"
   ]
  },
  {
   "cell_type": "code",
   "execution_count": 74,
   "metadata": {},
   "outputs": [],
   "source": [
    "def str2(seq):\n",
    "    str22 = []\n",
    "    for i in range(len(seq)-3):\n",
    "        str22.append(seq[i:i+4])\n",
    "    return str22"
   ]
  },
  {
   "cell_type": "code",
   "execution_count": 75,
   "metadata": {},
   "outputs": [
    {
     "data": {
      "text/plain": [
       "['ATTT', 'TTTA', 'TTAT', 'TATA', 'ATAG', 'TAGC', 'AGCG', 'GCGC']"
      ]
     },
     "execution_count": 75,
     "metadata": {},
     "output_type": "execute_result"
    }
   ],
   "source": [
    "str2(listp)"
   ]
  },
  {
   "cell_type": "code",
   "execution_count": 76,
   "metadata": {},
   "outputs": [],
   "source": [
    "liststr4 = []\n",
    "for i in range(len(DNA_df)):\n",
    "    liststr4 += str2(DNA_df.iloc[i][0])"
   ]
  },
  {
   "cell_type": "code",
   "execution_count": 77,
   "metadata": {},
   "outputs": [
    {
     "data": {
      "text/plain": [
       "28619"
      ]
     },
     "execution_count": 77,
     "metadata": {},
     "output_type": "execute_result"
    }
   ],
   "source": [
    "len(liststr4)"
   ]
  },
  {
   "cell_type": "code",
   "execution_count": 78,
   "metadata": {},
   "outputs": [],
   "source": [
    "unique_4char=set(liststr4) # กำจัดตัวที่ซ่ำ"
   ]
  },
  {
   "cell_type": "code",
   "execution_count": 79,
   "metadata": {},
   "outputs": [
    {
     "data": {
      "text/plain": [
       "256"
      ]
     },
     "execution_count": 79,
     "metadata": {},
     "output_type": "execute_result"
    }
   ],
   "source": [
    "len(unique_4char)"
   ]
  },
  {
   "cell_type": "code",
   "execution_count": 80,
   "metadata": {},
   "outputs": [],
   "source": [
    "dict_4char = {}\n",
    "for i in unique_4char:\n",
    "    num = 0\n",
    "    for j in liststr4:\n",
    "        if i == j:\n",
    "            num += 1\n",
    "    dict_4char[i] = num"
   ]
  },
  {
   "cell_type": "code",
   "execution_count": 81,
   "metadata": {},
   "outputs": [
    {
     "data": {
      "text/plain": [
       "235"
      ]
     },
     "execution_count": 81,
     "metadata": {},
     "output_type": "execute_result"
    }
   ],
   "source": [
    "dict_4char['TGGT']"
   ]
  },
  {
   "cell_type": "code",
   "execution_count": 82,
   "metadata": {},
   "outputs": [],
   "source": [
    "MaxV = -100\n",
    "Maxkey = None\n",
    "for i in dict_4char.keys():\n",
    "    if dict_4char[i] > MaxV:\n",
    "        MaxV = dict_4char[i]\n",
    "        Maxkey = i"
   ]
  },
  {
   "cell_type": "code",
   "execution_count": 83,
   "metadata": {},
   "outputs": [
    {
     "name": "stdout",
     "output_type": "stream",
     "text": [
      "Max 4-char-long sequence is TGTT with frequency equals 318\n"
     ]
    }
   ],
   "source": [
    "print(f'Max 4-char-long sequence is {Maxkey} with frequency equals {MaxV}')"
   ]
  },
  {
   "cell_type": "markdown",
   "metadata": {},
   "source": [
    "## 3> จากไฟล์ data.xlsx สร้างตาราง\n",
    "-ใหม่ที่มี 2 columns แรกชื่อว่า ภาษาอีสาน และมีค่าใน column เป็นค่า จาก column ภาษาอีสานเดิม แต่เปลี่ยน ค่าเป็น '/' เป็น ',' และ columns \n",
    "ที่สองชื่อว่า ภาษาไทย และมีค่าใน columns เป็นค่าจาก columns ภาษาไทยเดิมแต่เปลี่ยน '/' เป็น ',' เช่น\n",
    "จาก สวัสดี/สุผุ้สุคน/เด้อ/จ้า   สวัสดี/ทุกๆคน/นะ/คะ\n",
    "เป็น สวัสดี,สุผุ้สุคน,เด้อ,จ้า   สวัสดี,ทุกๆคน,นะ,คะ\n",
    "\n",
    "-สร้างตาราง Dictionary โดยตารางประกอบด้วย 2 columns คือ ภาษาอีสานและภาษาไทย โดยค่าใน columns ภาษาอีสาน คือคำในภาษาอีสานและ columns ภาษาไทย\n",
    "คือคำแปลเป็นภาษากลางของภาษาอีสานใน columns แรก (ใช้คำจากตาราง data.xlsx โดยคำที่อยู่ในลำดับเดียวกันของ columns ภาษาอีสานและภาษาไทย คือคำแปลของกันและกันจำนวนคำทั้ง 2 คำของทั้งสอง columns เท่ากัน ถ้าจำนวนคำระหว่าง 2 columns ไม่เท่ากันให้ข้าม record นั้นไป)"
   ]
  },
  {
   "cell_type": "code",
   "execution_count": 120,
   "metadata": {},
   "outputs": [],
   "source": [
    "import pandas as pd"
   ]
  },
  {
   "cell_type": "code",
   "execution_count": 147,
   "metadata": {},
   "outputs": [],
   "source": [
    "df= pd.read_excel('data.xlsx')"
   ]
  },
  {
   "cell_type": "code",
   "execution_count": 148,
   "metadata": {},
   "outputs": [
    {
     "data": {
      "text/html": [
       "<div>\n",
       "<style scoped>\n",
       "    .dataframe tbody tr th:only-of-type {\n",
       "        vertical-align: middle;\n",
       "    }\n",
       "\n",
       "    .dataframe tbody tr th {\n",
       "        vertical-align: top;\n",
       "    }\n",
       "\n",
       "    .dataframe thead th {\n",
       "        text-align: right;\n",
       "    }\n",
       "</style>\n",
       "<table border=\"1\" class=\"dataframe\">\n",
       "  <thead>\n",
       "    <tr style=\"text-align: right;\">\n",
       "      <th></th>\n",
       "      <th>No</th>\n",
       "      <th>ภาษาอีสาน</th>\n",
       "      <th>ภาษาไทย</th>\n",
       "      <th>เริ่ม</th>\n",
       "      <th>จบ</th>\n",
       "      <th>จบ-เริ่ม</th>\n",
       "      <th>G2P</th>\n",
       "    </tr>\n",
       "  </thead>\n",
       "  <tbody>\n",
       "    <tr>\n",
       "      <th>0</th>\n",
       "      <td>1.0</td>\n",
       "      <td>สวัสดี/สุผู้สุคน/เด้อ/จ้า</td>\n",
       "      <td>สวัสดี/ทุก ๆ คน/นะ/คะ</td>\n",
       "      <td>00:00:16</td>\n",
       "      <td>00:00:18</td>\n",
       "      <td>00:00:02</td>\n",
       "      <td>s-a-z^-1 w-a-t^-1 d-ii-z^-0 *s-u-z^-1 *ph-uu-z...</td>\n",
       "    </tr>\n",
       "    <tr>\n",
       "      <th>1</th>\n",
       "      <td>2.0</td>\n",
       "      <td>กิน/ข้าว/ก่อน/เด้อ/จ้า/ ไผ/สิ/ถ่า/เค้า/ดาวน์</td>\n",
       "      <td>กิน/ข้าว/ก่อน/นะ/จ้ะ/ใคร/จะ/รอ/เค้า/ดาวน์</td>\n",
       "      <td>00:02:14</td>\n",
       "      <td>00:02:18</td>\n",
       "      <td>00:00:04</td>\n",
       "      <td>k-i-n^-0 *kh-aa-w^-2 *k-@@-n^-1 *d-qq-z^-2 *c-...</td>\n",
       "    </tr>\n",
       "    <tr>\n",
       "      <th>2</th>\n",
       "      <td>3.0</td>\n",
       "      <td>เค้า/ดาว/กะ/ขอ/ให้/เค้า/ดาว/อย่าง/มี/ความ/สุข/...</td>\n",
       "      <td>เค้า/ดาวน์/ก็/ขอ/ให้/เค้า/ดาน์/อย่าง/มี/ความ/ส...</td>\n",
       "      <td>00:02:21</td>\n",
       "      <td>00:02:25</td>\n",
       "      <td>00:00:04</td>\n",
       "      <td>kh-a-w^-3 *d-aa-w^-0 *k-a-z^-1 *kh-@@-z^-4 *h-...</td>\n",
       "    </tr>\n",
       "    <tr>\n",
       "      <th>3</th>\n",
       "      <td>4.0</td>\n",
       "      <td>นี่/จ้า/อา/หาร/เย็น/เป็น/ลา/ซาน/ย่า/กับ/ผัก/สด...</td>\n",
       "      <td>นี่/จ้า/อา/หาร/เย็น/เป็น/ลา/ซาน/ย่า/กับ/ผัก/สด...</td>\n",
       "      <td>00:02:33</td>\n",
       "      <td>00:02:37</td>\n",
       "      <td>00:00:04</td>\n",
       "      <td>n-ii-z^-2 *c-aa-z^-2 *z-aa-z^-0 *h-aa-n^-4 *j-...</td>\n",
       "    </tr>\n",
       "    <tr>\n",
       "      <th>4</th>\n",
       "      <td>5.0</td>\n",
       "      <td>ขอ/ให้/เชิญ/แซ่บ/เด้อ/พี่/น้อง</td>\n",
       "      <td>ขอ/ให้/เชิญ/อร่อย/นะ/ทุก/คน</td>\n",
       "      <td>00:02:38</td>\n",
       "      <td>00:02:41</td>\n",
       "      <td>00:00:03</td>\n",
       "      <td>kh-@@-z^-4 *h-a-j^-2 *ch-qq-n^-0 *s-xx-p^-2 *d...</td>\n",
       "    </tr>\n",
       "    <tr>\n",
       "      <th>5</th>\n",
       "      <td>6.0</td>\n",
       "      <td>แมท/ธิว/บอก/ว่า/อี/แม่/อย่า/พึ่ง/หลับ/เด้อ</td>\n",
       "      <td>แมท/ธิว/บอก/ว่า/คุณ/แม่/อย่า/พึ่ง/หลับ/นะ</td>\n",
       "      <td>00:03:08</td>\n",
       "      <td>00:03:08</td>\n",
       "      <td>00:00:00</td>\n",
       "      <td>m-xx-t^-1 *th-i-w^-0 *b-@@-k^-1 *w-aa-z^-2 *z-...</td>\n",
       "    </tr>\n",
       "    <tr>\n",
       "      <th>6</th>\n",
       "      <td>7.0</td>\n",
       "      <td>เงียบ/แฮงจัด</td>\n",
       "      <td>เงียบ/มาก ๆ</td>\n",
       "      <td>00:09:51</td>\n",
       "      <td>00:09:53</td>\n",
       "      <td>00:00:02</td>\n",
       "      <td>ng-iia-p^-2 *h-xx-ng^-0 *c-a-t^-1</td>\n",
       "    </tr>\n",
       "    <tr>\n",
       "      <th>7</th>\n",
       "      <td>8.0</td>\n",
       "      <td>บ่/มี/ความ/รื่น/เริง/อี/หยัง/เลย/ข้าง/นอก</td>\n",
       "      <td>ไม่/มี/ความ/รื่น/เริง/อะ/ไร/เลย/ด้าน/นอก</td>\n",
       "      <td>00:10:07</td>\n",
       "      <td>00:10:11</td>\n",
       "      <td>00:00:04</td>\n",
       "      <td>b-@@-z^-1 *m-ii-z^-0 *khw-aa-m^-0 *r-vv-n^-2 *...</td>\n",
       "    </tr>\n",
       "    <tr>\n",
       "      <th>8</th>\n",
       "      <td>9.0</td>\n",
       "      <td>มื้อ/นี้/สิ/เบิ่ง/พุ/ตอน/หก/ทุ่ม/จ่ะ</td>\n",
       "      <td>วัน/นี้/จะ/ดู/พุ/ตอน/หก/ทุ่ม/นะ/คะ</td>\n",
       "      <td>00:10:29</td>\n",
       "      <td>00:10:33</td>\n",
       "      <td>00:00:04</td>\n",
       "      <td>m-vv-z^-3 *n-ii-z^-3 *s-i-z^-1 *b-q-ng^-1 *ph-...</td>\n",
       "    </tr>\n",
       "    <tr>\n",
       "      <th>9</th>\n",
       "      <td>10.0</td>\n",
       "      <td>ถ้า/ฝน/ตก/หิ/มะ/ตก/คึ/สิ/บ่/ได้/ออก/ไป</td>\n",
       "      <td>ถ้า/ฝน/ตก/หิ/มะ/ตก/คง/จะ/ไม่/ได้/ออก/ไป</td>\n",
       "      <td>00:10:40</td>\n",
       "      <td>00:10:43</td>\n",
       "      <td>00:00:03</td>\n",
       "      <td>th-aa-z^-2 *f-o-n^-4 *t-o-k^-1 *h-i-z^-1 *m-a-...</td>\n",
       "    </tr>\n",
       "    <tr>\n",
       "      <th>10</th>\n",
       "      <td>11.0</td>\n",
       "      <td>ปี/ที่/แล้ว/ออก/ไป/เบิ่ง/เขา/จุด/พุ/มัน/เป็น/ฝ...</td>\n",
       "      <td>ปี/ที่/แล้ว/ออก/ไป/ดู/เขา/จุด/พุ/มัน/เป็น/ฝน/ห...</td>\n",
       "      <td>00:10:52</td>\n",
       "      <td>00:10:56</td>\n",
       "      <td>00:00:04</td>\n",
       "      <td>p-ii-z^-0 *th-ii-z^-2 *l-xx-w^-3 *z-@@-k^-1 *p...</td>\n",
       "    </tr>\n",
       "    <tr>\n",
       "      <th>11</th>\n",
       "      <td>12.0</td>\n",
       "      <td>เพิ่น/ก้ม/แบบ/คน/เมา/นะ/จ้ะ</td>\n",
       "      <td>เขา/ก้ม/แบบ/คน/เมา/อ่ะ/ค่ะ</td>\n",
       "      <td>00:11:09</td>\n",
       "      <td>00:11:12</td>\n",
       "      <td>00:00:03</td>\n",
       "      <td>ph-qq-n^-2 *k-o-m^-3 *b-xx-p^-1 *kh-o-n^-0 *m-...</td>\n",
       "    </tr>\n",
       "    <tr>\n",
       "      <th>12</th>\n",
       "      <td>13.0</td>\n",
       "      <td>ก้ม/ก้ม/ส่อง/พุ/เพิ่น/จุด/ละ/เพิ่น/กะ/ก้ม/ส่อง...</td>\n",
       "      <td>ก้ม/ก้ม/ส่อง/พุ/เขา/จุด/ละ/เขา/ก็/ก้ม/ส่อง/เขา...</td>\n",
       "      <td>00:11:14</td>\n",
       "      <td>00:11:18</td>\n",
       "      <td>00:00:04</td>\n",
       "      <td>k-o-m^-3 *k-o-m^-3 *s-@-ng^-1 *ph-u-z^-3 *ph-q...</td>\n",
       "    </tr>\n",
       "    <tr>\n",
       "      <th>13</th>\n",
       "      <td>14.0</td>\n",
       "      <td>เพิ่น/สิ/โซ/กล้าม/เพิ่น/หั่น/นะ/พี่น้อง</td>\n",
       "      <td>เขา/จะ/โชว์/กล้าม/เขา/นั่น/แหละ/ทุกคน</td>\n",
       "      <td>00:13:11</td>\n",
       "      <td>00:13:13</td>\n",
       "      <td>00:00:02</td>\n",
       "      <td>ph-qq-n^-2 *s-i-z^-1 *s-oo-z^-0 *kl-aa-m^-2 *p...</td>\n",
       "    </tr>\n",
       "    <tr>\n",
       "      <th>14</th>\n",
       "      <td>15.0</td>\n",
       "      <td>โอ/เค/จ้า/สุผู้สุคน/มื้อ/นี้/จั่ง/ใด๋/กะ/ขอบ/ค...</td>\n",
       "      <td>โอ/เค/จ้า/ทุก ๆ  คน/วัน/นี้/ยัง/ไง/ก็/ขอบ/คุณ/...</td>\n",
       "      <td>00:15:23</td>\n",
       "      <td>00:15:26</td>\n",
       "      <td>00:00:03</td>\n",
       "      <td>z-oo-z^-0 *kh-ee-z^-0 *c-aa-z^-2\\n*s-u-z^-1 *p...</td>\n",
       "    </tr>\n",
       "    <tr>\n",
       "      <th>15</th>\n",
       "      <td>16.0</td>\n",
       "      <td>จ้า/พ้อ/กัน/ใหม่/ใน/คลิป/วิ/ดี/โอ/หน้า/สวัสดี/...</td>\n",
       "      <td>จ้า/เจอ/กัน/ใหม่/ใน/คลิป/วิ/ดี/โอ/หน้า/สวัสดี/...</td>\n",
       "      <td>00:15:30</td>\n",
       "      <td>00:15:33</td>\n",
       "      <td>00:00:03</td>\n",
       "      <td>c-aa-z^-2 *ph-@@-z^-3 *k-a-n^-0 *m-a-j^-1 *n-a...</td>\n",
       "    </tr>\n",
       "    <tr>\n",
       "      <th>16</th>\n",
       "      <td>NaN</td>\n",
       "      <td>NaN</td>\n",
       "      <td>NaN</td>\n",
       "      <td>NaN</td>\n",
       "      <td>NaN</td>\n",
       "      <td>00:00:49</td>\n",
       "      <td>NaN</td>\n",
       "    </tr>\n",
       "  </tbody>\n",
       "</table>\n",
       "</div>"
      ],
      "text/plain": [
       "      No                                          ภาษาอีสาน  \\\n",
       "0    1.0                          สวัสดี/สุผู้สุคน/เด้อ/จ้า   \n",
       "1    2.0       กิน/ข้าว/ก่อน/เด้อ/จ้า/ ไผ/สิ/ถ่า/เค้า/ดาวน์   \n",
       "2    3.0  เค้า/ดาว/กะ/ขอ/ให้/เค้า/ดาว/อย่าง/มี/ความ/สุข/...   \n",
       "3    4.0  นี่/จ้า/อา/หาร/เย็น/เป็น/ลา/ซาน/ย่า/กับ/ผัก/สด...   \n",
       "4    5.0                     ขอ/ให้/เชิญ/แซ่บ/เด้อ/พี่/น้อง   \n",
       "5    6.0         แมท/ธิว/บอก/ว่า/อี/แม่/อย่า/พึ่ง/หลับ/เด้อ   \n",
       "6    7.0                                       เงียบ/แฮงจัด   \n",
       "7    8.0          บ่/มี/ความ/รื่น/เริง/อี/หยัง/เลย/ข้าง/นอก   \n",
       "8    9.0               มื้อ/นี้/สิ/เบิ่ง/พุ/ตอน/หก/ทุ่ม/จ่ะ   \n",
       "9   10.0             ถ้า/ฝน/ตก/หิ/มะ/ตก/คึ/สิ/บ่/ได้/ออก/ไป   \n",
       "10  11.0  ปี/ที่/แล้ว/ออก/ไป/เบิ่ง/เขา/จุด/พุ/มัน/เป็น/ฝ...   \n",
       "11  12.0                        เพิ่น/ก้ม/แบบ/คน/เมา/นะ/จ้ะ   \n",
       "12  13.0  ก้ม/ก้ม/ส่อง/พุ/เพิ่น/จุด/ละ/เพิ่น/กะ/ก้ม/ส่อง...   \n",
       "13  14.0            เพิ่น/สิ/โซ/กล้าม/เพิ่น/หั่น/นะ/พี่น้อง   \n",
       "14  15.0  โอ/เค/จ้า/สุผู้สุคน/มื้อ/นี้/จั่ง/ใด๋/กะ/ขอบ/ค...   \n",
       "15  16.0  จ้า/พ้อ/กัน/ใหม่/ใน/คลิป/วิ/ดี/โอ/หน้า/สวัสดี/...   \n",
       "16   NaN                                                NaN   \n",
       "\n",
       "                                              ภาษาไทย     เริ่ม        จบ  \\\n",
       "0                               สวัสดี/ทุก ๆ คน/นะ/คะ  00:00:16  00:00:18   \n",
       "1           กิน/ข้าว/ก่อน/นะ/จ้ะ/ใคร/จะ/รอ/เค้า/ดาวน์  00:02:14  00:02:18   \n",
       "2   เค้า/ดาวน์/ก็/ขอ/ให้/เค้า/ดาน์/อย่าง/มี/ความ/ส...  00:02:21  00:02:25   \n",
       "3   นี่/จ้า/อา/หาร/เย็น/เป็น/ลา/ซาน/ย่า/กับ/ผัก/สด...  00:02:33  00:02:37   \n",
       "4                         ขอ/ให้/เชิญ/อร่อย/นะ/ทุก/คน  00:02:38  00:02:41   \n",
       "5           แมท/ธิว/บอก/ว่า/คุณ/แม่/อย่า/พึ่ง/หลับ/นะ  00:03:08  00:03:08   \n",
       "6                                         เงียบ/มาก ๆ  00:09:51  00:09:53   \n",
       "7            ไม่/มี/ความ/รื่น/เริง/อะ/ไร/เลย/ด้าน/นอก  00:10:07  00:10:11   \n",
       "8                  วัน/นี้/จะ/ดู/พุ/ตอน/หก/ทุ่ม/นะ/คะ  00:10:29  00:10:33   \n",
       "9             ถ้า/ฝน/ตก/หิ/มะ/ตก/คง/จะ/ไม่/ได้/ออก/ไป  00:10:40  00:10:43   \n",
       "10  ปี/ที่/แล้ว/ออก/ไป/ดู/เขา/จุด/พุ/มัน/เป็น/ฝน/ห...  00:10:52  00:10:56   \n",
       "11                         เขา/ก้ม/แบบ/คน/เมา/อ่ะ/ค่ะ  00:11:09  00:11:12   \n",
       "12  ก้ม/ก้ม/ส่อง/พุ/เขา/จุด/ละ/เขา/ก็/ก้ม/ส่อง/เขา...  00:11:14  00:11:18   \n",
       "13              เขา/จะ/โชว์/กล้าม/เขา/นั่น/แหละ/ทุกคน  00:13:11  00:13:13   \n",
       "14  โอ/เค/จ้า/ทุก ๆ  คน/วัน/นี้/ยัง/ไง/ก็/ขอบ/คุณ/...  00:15:23  00:15:26   \n",
       "15  จ้า/เจอ/กัน/ใหม่/ใน/คลิป/วิ/ดี/โอ/หน้า/สวัสดี/...  00:15:30  00:15:33   \n",
       "16                                                NaN       NaN       NaN   \n",
       "\n",
       "    จบ-เริ่ม                                                G2P  \n",
       "0   00:00:02  s-a-z^-1 w-a-t^-1 d-ii-z^-0 *s-u-z^-1 *ph-uu-z...  \n",
       "1   00:00:04  k-i-n^-0 *kh-aa-w^-2 *k-@@-n^-1 *d-qq-z^-2 *c-...  \n",
       "2   00:00:04  kh-a-w^-3 *d-aa-w^-0 *k-a-z^-1 *kh-@@-z^-4 *h-...  \n",
       "3   00:00:04  n-ii-z^-2 *c-aa-z^-2 *z-aa-z^-0 *h-aa-n^-4 *j-...  \n",
       "4   00:00:03  kh-@@-z^-4 *h-a-j^-2 *ch-qq-n^-0 *s-xx-p^-2 *d...  \n",
       "5   00:00:00  m-xx-t^-1 *th-i-w^-0 *b-@@-k^-1 *w-aa-z^-2 *z-...  \n",
       "6   00:00:02                  ng-iia-p^-2 *h-xx-ng^-0 *c-a-t^-1  \n",
       "7   00:00:04  b-@@-z^-1 *m-ii-z^-0 *khw-aa-m^-0 *r-vv-n^-2 *...  \n",
       "8   00:00:04  m-vv-z^-3 *n-ii-z^-3 *s-i-z^-1 *b-q-ng^-1 *ph-...  \n",
       "9   00:00:03  th-aa-z^-2 *f-o-n^-4 *t-o-k^-1 *h-i-z^-1 *m-a-...  \n",
       "10  00:00:04  p-ii-z^-0 *th-ii-z^-2 *l-xx-w^-3 *z-@@-k^-1 *p...  \n",
       "11  00:00:03  ph-qq-n^-2 *k-o-m^-3 *b-xx-p^-1 *kh-o-n^-0 *m-...  \n",
       "12  00:00:04  k-o-m^-3 *k-o-m^-3 *s-@-ng^-1 *ph-u-z^-3 *ph-q...  \n",
       "13  00:00:02  ph-qq-n^-2 *s-i-z^-1 *s-oo-z^-0 *kl-aa-m^-2 *p...  \n",
       "14  00:00:03  z-oo-z^-0 *kh-ee-z^-0 *c-aa-z^-2\\n*s-u-z^-1 *p...  \n",
       "15  00:00:03  c-aa-z^-2 *ph-@@-z^-3 *k-a-n^-0 *m-a-j^-1 *n-a...  \n",
       "16  00:00:49                                                NaN  "
      ]
     },
     "execution_count": 148,
     "metadata": {},
     "output_type": "execute_result"
    }
   ],
   "source": [
    "df"
   ]
  },
  {
   "cell_type": "code",
   "execution_count": 149,
   "metadata": {},
   "outputs": [],
   "source": [
    "df = df.dropna()"
   ]
  },
  {
   "cell_type": "code",
   "execution_count": 150,
   "metadata": {},
   "outputs": [
    {
     "data": {
      "text/plain": [
       "'สวัสดี,สุผู้สุคน,เด้อ,จ้า'"
      ]
     },
     "execution_count": 150,
     "metadata": {},
     "output_type": "execute_result"
    }
   ],
   "source": [
    "df.iloc[0,1].replace(\"/\", \",\")"
   ]
  },
  {
   "cell_type": "code",
   "execution_count": 151,
   "metadata": {},
   "outputs": [
    {
     "data": {
      "text/html": [
       "<div>\n",
       "<style scoped>\n",
       "    .dataframe tbody tr th:only-of-type {\n",
       "        vertical-align: middle;\n",
       "    }\n",
       "\n",
       "    .dataframe tbody tr th {\n",
       "        vertical-align: top;\n",
       "    }\n",
       "\n",
       "    .dataframe thead th {\n",
       "        text-align: right;\n",
       "    }\n",
       "</style>\n",
       "<table border=\"1\" class=\"dataframe\">\n",
       "  <thead>\n",
       "    <tr style=\"text-align: right;\">\n",
       "      <th></th>\n",
       "      <th>No</th>\n",
       "      <th>ภาษาอีสาน</th>\n",
       "      <th>ภาษาไทย</th>\n",
       "      <th>เริ่ม</th>\n",
       "      <th>จบ</th>\n",
       "      <th>จบ-เริ่ม</th>\n",
       "      <th>G2P</th>\n",
       "    </tr>\n",
       "  </thead>\n",
       "  <tbody>\n",
       "    <tr>\n",
       "      <th>0</th>\n",
       "      <td>1.0</td>\n",
       "      <td>สวัสดี/สุผู้สุคน/เด้อ/จ้า</td>\n",
       "      <td>สวัสดี/ทุก ๆ คน/นะ/คะ</td>\n",
       "      <td>00:00:16</td>\n",
       "      <td>00:00:18</td>\n",
       "      <td>00:00:02</td>\n",
       "      <td>s-a-z^-1 w-a-t^-1 d-ii-z^-0 *s-u-z^-1 *ph-uu-z...</td>\n",
       "    </tr>\n",
       "    <tr>\n",
       "      <th>1</th>\n",
       "      <td>2.0</td>\n",
       "      <td>กิน/ข้าว/ก่อน/เด้อ/จ้า/ ไผ/สิ/ถ่า/เค้า/ดาวน์</td>\n",
       "      <td>กิน/ข้าว/ก่อน/นะ/จ้ะ/ใคร/จะ/รอ/เค้า/ดาวน์</td>\n",
       "      <td>00:02:14</td>\n",
       "      <td>00:02:18</td>\n",
       "      <td>00:00:04</td>\n",
       "      <td>k-i-n^-0 *kh-aa-w^-2 *k-@@-n^-1 *d-qq-z^-2 *c-...</td>\n",
       "    </tr>\n",
       "    <tr>\n",
       "      <th>2</th>\n",
       "      <td>3.0</td>\n",
       "      <td>เค้า/ดาว/กะ/ขอ/ให้/เค้า/ดาว/อย่าง/มี/ความ/สุข/...</td>\n",
       "      <td>เค้า/ดาวน์/ก็/ขอ/ให้/เค้า/ดาน์/อย่าง/มี/ความ/ส...</td>\n",
       "      <td>00:02:21</td>\n",
       "      <td>00:02:25</td>\n",
       "      <td>00:00:04</td>\n",
       "      <td>kh-a-w^-3 *d-aa-w^-0 *k-a-z^-1 *kh-@@-z^-4 *h-...</td>\n",
       "    </tr>\n",
       "    <tr>\n",
       "      <th>3</th>\n",
       "      <td>4.0</td>\n",
       "      <td>นี่/จ้า/อา/หาร/เย็น/เป็น/ลา/ซาน/ย่า/กับ/ผัก/สด...</td>\n",
       "      <td>นี่/จ้า/อา/หาร/เย็น/เป็น/ลา/ซาน/ย่า/กับ/ผัก/สด...</td>\n",
       "      <td>00:02:33</td>\n",
       "      <td>00:02:37</td>\n",
       "      <td>00:00:04</td>\n",
       "      <td>n-ii-z^-2 *c-aa-z^-2 *z-aa-z^-0 *h-aa-n^-4 *j-...</td>\n",
       "    </tr>\n",
       "    <tr>\n",
       "      <th>4</th>\n",
       "      <td>5.0</td>\n",
       "      <td>ขอ/ให้/เชิญ/แซ่บ/เด้อ/พี่/น้อง</td>\n",
       "      <td>ขอ/ให้/เชิญ/อร่อย/นะ/ทุก/คน</td>\n",
       "      <td>00:02:38</td>\n",
       "      <td>00:02:41</td>\n",
       "      <td>00:00:03</td>\n",
       "      <td>kh-@@-z^-4 *h-a-j^-2 *ch-qq-n^-0 *s-xx-p^-2 *d...</td>\n",
       "    </tr>\n",
       "    <tr>\n",
       "      <th>5</th>\n",
       "      <td>6.0</td>\n",
       "      <td>แมท/ธิว/บอก/ว่า/อี/แม่/อย่า/พึ่ง/หลับ/เด้อ</td>\n",
       "      <td>แมท/ธิว/บอก/ว่า/คุณ/แม่/อย่า/พึ่ง/หลับ/นะ</td>\n",
       "      <td>00:03:08</td>\n",
       "      <td>00:03:08</td>\n",
       "      <td>00:00:00</td>\n",
       "      <td>m-xx-t^-1 *th-i-w^-0 *b-@@-k^-1 *w-aa-z^-2 *z-...</td>\n",
       "    </tr>\n",
       "    <tr>\n",
       "      <th>6</th>\n",
       "      <td>7.0</td>\n",
       "      <td>เงียบ/แฮงจัด</td>\n",
       "      <td>เงียบ/มาก ๆ</td>\n",
       "      <td>00:09:51</td>\n",
       "      <td>00:09:53</td>\n",
       "      <td>00:00:02</td>\n",
       "      <td>ng-iia-p^-2 *h-xx-ng^-0 *c-a-t^-1</td>\n",
       "    </tr>\n",
       "    <tr>\n",
       "      <th>7</th>\n",
       "      <td>8.0</td>\n",
       "      <td>บ่/มี/ความ/รื่น/เริง/อี/หยัง/เลย/ข้าง/นอก</td>\n",
       "      <td>ไม่/มี/ความ/รื่น/เริง/อะ/ไร/เลย/ด้าน/นอก</td>\n",
       "      <td>00:10:07</td>\n",
       "      <td>00:10:11</td>\n",
       "      <td>00:00:04</td>\n",
       "      <td>b-@@-z^-1 *m-ii-z^-0 *khw-aa-m^-0 *r-vv-n^-2 *...</td>\n",
       "    </tr>\n",
       "    <tr>\n",
       "      <th>8</th>\n",
       "      <td>9.0</td>\n",
       "      <td>มื้อ/นี้/สิ/เบิ่ง/พุ/ตอน/หก/ทุ่ม/จ่ะ</td>\n",
       "      <td>วัน/นี้/จะ/ดู/พุ/ตอน/หก/ทุ่ม/นะ/คะ</td>\n",
       "      <td>00:10:29</td>\n",
       "      <td>00:10:33</td>\n",
       "      <td>00:00:04</td>\n",
       "      <td>m-vv-z^-3 *n-ii-z^-3 *s-i-z^-1 *b-q-ng^-1 *ph-...</td>\n",
       "    </tr>\n",
       "    <tr>\n",
       "      <th>9</th>\n",
       "      <td>10.0</td>\n",
       "      <td>ถ้า/ฝน/ตก/หิ/มะ/ตก/คึ/สิ/บ่/ได้/ออก/ไป</td>\n",
       "      <td>ถ้า/ฝน/ตก/หิ/มะ/ตก/คง/จะ/ไม่/ได้/ออก/ไป</td>\n",
       "      <td>00:10:40</td>\n",
       "      <td>00:10:43</td>\n",
       "      <td>00:00:03</td>\n",
       "      <td>th-aa-z^-2 *f-o-n^-4 *t-o-k^-1 *h-i-z^-1 *m-a-...</td>\n",
       "    </tr>\n",
       "    <tr>\n",
       "      <th>10</th>\n",
       "      <td>11.0</td>\n",
       "      <td>ปี/ที่/แล้ว/ออก/ไป/เบิ่ง/เขา/จุด/พุ/มัน/เป็น/ฝ...</td>\n",
       "      <td>ปี/ที่/แล้ว/ออก/ไป/ดู/เขา/จุด/พุ/มัน/เป็น/ฝน/ห...</td>\n",
       "      <td>00:10:52</td>\n",
       "      <td>00:10:56</td>\n",
       "      <td>00:00:04</td>\n",
       "      <td>p-ii-z^-0 *th-ii-z^-2 *l-xx-w^-3 *z-@@-k^-1 *p...</td>\n",
       "    </tr>\n",
       "    <tr>\n",
       "      <th>11</th>\n",
       "      <td>12.0</td>\n",
       "      <td>เพิ่น/ก้ม/แบบ/คน/เมา/นะ/จ้ะ</td>\n",
       "      <td>เขา/ก้ม/แบบ/คน/เมา/อ่ะ/ค่ะ</td>\n",
       "      <td>00:11:09</td>\n",
       "      <td>00:11:12</td>\n",
       "      <td>00:00:03</td>\n",
       "      <td>ph-qq-n^-2 *k-o-m^-3 *b-xx-p^-1 *kh-o-n^-0 *m-...</td>\n",
       "    </tr>\n",
       "    <tr>\n",
       "      <th>12</th>\n",
       "      <td>13.0</td>\n",
       "      <td>ก้ม/ก้ม/ส่อง/พุ/เพิ่น/จุด/ละ/เพิ่น/กะ/ก้ม/ส่อง...</td>\n",
       "      <td>ก้ม/ก้ม/ส่อง/พุ/เขา/จุด/ละ/เขา/ก็/ก้ม/ส่อง/เขา...</td>\n",
       "      <td>00:11:14</td>\n",
       "      <td>00:11:18</td>\n",
       "      <td>00:00:04</td>\n",
       "      <td>k-o-m^-3 *k-o-m^-3 *s-@-ng^-1 *ph-u-z^-3 *ph-q...</td>\n",
       "    </tr>\n",
       "    <tr>\n",
       "      <th>13</th>\n",
       "      <td>14.0</td>\n",
       "      <td>เพิ่น/สิ/โซ/กล้าม/เพิ่น/หั่น/นะ/พี่น้อง</td>\n",
       "      <td>เขา/จะ/โชว์/กล้าม/เขา/นั่น/แหละ/ทุกคน</td>\n",
       "      <td>00:13:11</td>\n",
       "      <td>00:13:13</td>\n",
       "      <td>00:00:02</td>\n",
       "      <td>ph-qq-n^-2 *s-i-z^-1 *s-oo-z^-0 *kl-aa-m^-2 *p...</td>\n",
       "    </tr>\n",
       "    <tr>\n",
       "      <th>14</th>\n",
       "      <td>15.0</td>\n",
       "      <td>โอ/เค/จ้า/สุผู้สุคน/มื้อ/นี้/จั่ง/ใด๋/กะ/ขอบ/ค...</td>\n",
       "      <td>โอ/เค/จ้า/ทุก ๆ  คน/วัน/นี้/ยัง/ไง/ก็/ขอบ/คุณ/...</td>\n",
       "      <td>00:15:23</td>\n",
       "      <td>00:15:26</td>\n",
       "      <td>00:00:03</td>\n",
       "      <td>z-oo-z^-0 *kh-ee-z^-0 *c-aa-z^-2\\n*s-u-z^-1 *p...</td>\n",
       "    </tr>\n",
       "    <tr>\n",
       "      <th>15</th>\n",
       "      <td>16.0</td>\n",
       "      <td>จ้า/พ้อ/กัน/ใหม่/ใน/คลิป/วิ/ดี/โอ/หน้า/สวัสดี/...</td>\n",
       "      <td>จ้า/เจอ/กัน/ใหม่/ใน/คลิป/วิ/ดี/โอ/หน้า/สวัสดี/...</td>\n",
       "      <td>00:15:30</td>\n",
       "      <td>00:15:33</td>\n",
       "      <td>00:00:03</td>\n",
       "      <td>c-aa-z^-2 *ph-@@-z^-3 *k-a-n^-0 *m-a-j^-1 *n-a...</td>\n",
       "    </tr>\n",
       "  </tbody>\n",
       "</table>\n",
       "</div>"
      ],
      "text/plain": [
       "      No                                          ภาษาอีสาน  \\\n",
       "0    1.0                          สวัสดี/สุผู้สุคน/เด้อ/จ้า   \n",
       "1    2.0       กิน/ข้าว/ก่อน/เด้อ/จ้า/ ไผ/สิ/ถ่า/เค้า/ดาวน์   \n",
       "2    3.0  เค้า/ดาว/กะ/ขอ/ให้/เค้า/ดาว/อย่าง/มี/ความ/สุข/...   \n",
       "3    4.0  นี่/จ้า/อา/หาร/เย็น/เป็น/ลา/ซาน/ย่า/กับ/ผัก/สด...   \n",
       "4    5.0                     ขอ/ให้/เชิญ/แซ่บ/เด้อ/พี่/น้อง   \n",
       "5    6.0         แมท/ธิว/บอก/ว่า/อี/แม่/อย่า/พึ่ง/หลับ/เด้อ   \n",
       "6    7.0                                       เงียบ/แฮงจัด   \n",
       "7    8.0          บ่/มี/ความ/รื่น/เริง/อี/หยัง/เลย/ข้าง/นอก   \n",
       "8    9.0               มื้อ/นี้/สิ/เบิ่ง/พุ/ตอน/หก/ทุ่ม/จ่ะ   \n",
       "9   10.0             ถ้า/ฝน/ตก/หิ/มะ/ตก/คึ/สิ/บ่/ได้/ออก/ไป   \n",
       "10  11.0  ปี/ที่/แล้ว/ออก/ไป/เบิ่ง/เขา/จุด/พุ/มัน/เป็น/ฝ...   \n",
       "11  12.0                        เพิ่น/ก้ม/แบบ/คน/เมา/นะ/จ้ะ   \n",
       "12  13.0  ก้ม/ก้ม/ส่อง/พุ/เพิ่น/จุด/ละ/เพิ่น/กะ/ก้ม/ส่อง...   \n",
       "13  14.0            เพิ่น/สิ/โซ/กล้าม/เพิ่น/หั่น/นะ/พี่น้อง   \n",
       "14  15.0  โอ/เค/จ้า/สุผู้สุคน/มื้อ/นี้/จั่ง/ใด๋/กะ/ขอบ/ค...   \n",
       "15  16.0  จ้า/พ้อ/กัน/ใหม่/ใน/คลิป/วิ/ดี/โอ/หน้า/สวัสดี/...   \n",
       "\n",
       "                                              ภาษาไทย     เริ่ม        จบ  \\\n",
       "0                               สวัสดี/ทุก ๆ คน/นะ/คะ  00:00:16  00:00:18   \n",
       "1           กิน/ข้าว/ก่อน/นะ/จ้ะ/ใคร/จะ/รอ/เค้า/ดาวน์  00:02:14  00:02:18   \n",
       "2   เค้า/ดาวน์/ก็/ขอ/ให้/เค้า/ดาน์/อย่าง/มี/ความ/ส...  00:02:21  00:02:25   \n",
       "3   นี่/จ้า/อา/หาร/เย็น/เป็น/ลา/ซาน/ย่า/กับ/ผัก/สด...  00:02:33  00:02:37   \n",
       "4                         ขอ/ให้/เชิญ/อร่อย/นะ/ทุก/คน  00:02:38  00:02:41   \n",
       "5           แมท/ธิว/บอก/ว่า/คุณ/แม่/อย่า/พึ่ง/หลับ/นะ  00:03:08  00:03:08   \n",
       "6                                         เงียบ/มาก ๆ  00:09:51  00:09:53   \n",
       "7            ไม่/มี/ความ/รื่น/เริง/อะ/ไร/เลย/ด้าน/นอก  00:10:07  00:10:11   \n",
       "8                  วัน/นี้/จะ/ดู/พุ/ตอน/หก/ทุ่ม/นะ/คะ  00:10:29  00:10:33   \n",
       "9             ถ้า/ฝน/ตก/หิ/มะ/ตก/คง/จะ/ไม่/ได้/ออก/ไป  00:10:40  00:10:43   \n",
       "10  ปี/ที่/แล้ว/ออก/ไป/ดู/เขา/จุด/พุ/มัน/เป็น/ฝน/ห...  00:10:52  00:10:56   \n",
       "11                         เขา/ก้ม/แบบ/คน/เมา/อ่ะ/ค่ะ  00:11:09  00:11:12   \n",
       "12  ก้ม/ก้ม/ส่อง/พุ/เขา/จุด/ละ/เขา/ก็/ก้ม/ส่อง/เขา...  00:11:14  00:11:18   \n",
       "13              เขา/จะ/โชว์/กล้าม/เขา/นั่น/แหละ/ทุกคน  00:13:11  00:13:13   \n",
       "14  โอ/เค/จ้า/ทุก ๆ  คน/วัน/นี้/ยัง/ไง/ก็/ขอบ/คุณ/...  00:15:23  00:15:26   \n",
       "15  จ้า/เจอ/กัน/ใหม่/ใน/คลิป/วิ/ดี/โอ/หน้า/สวัสดี/...  00:15:30  00:15:33   \n",
       "\n",
       "    จบ-เริ่ม                                                G2P  \n",
       "0   00:00:02  s-a-z^-1 w-a-t^-1 d-ii-z^-0 *s-u-z^-1 *ph-uu-z...  \n",
       "1   00:00:04  k-i-n^-0 *kh-aa-w^-2 *k-@@-n^-1 *d-qq-z^-2 *c-...  \n",
       "2   00:00:04  kh-a-w^-3 *d-aa-w^-0 *k-a-z^-1 *kh-@@-z^-4 *h-...  \n",
       "3   00:00:04  n-ii-z^-2 *c-aa-z^-2 *z-aa-z^-0 *h-aa-n^-4 *j-...  \n",
       "4   00:00:03  kh-@@-z^-4 *h-a-j^-2 *ch-qq-n^-0 *s-xx-p^-2 *d...  \n",
       "5   00:00:00  m-xx-t^-1 *th-i-w^-0 *b-@@-k^-1 *w-aa-z^-2 *z-...  \n",
       "6   00:00:02                  ng-iia-p^-2 *h-xx-ng^-0 *c-a-t^-1  \n",
       "7   00:00:04  b-@@-z^-1 *m-ii-z^-0 *khw-aa-m^-0 *r-vv-n^-2 *...  \n",
       "8   00:00:04  m-vv-z^-3 *n-ii-z^-3 *s-i-z^-1 *b-q-ng^-1 *ph-...  \n",
       "9   00:00:03  th-aa-z^-2 *f-o-n^-4 *t-o-k^-1 *h-i-z^-1 *m-a-...  \n",
       "10  00:00:04  p-ii-z^-0 *th-ii-z^-2 *l-xx-w^-3 *z-@@-k^-1 *p...  \n",
       "11  00:00:03  ph-qq-n^-2 *k-o-m^-3 *b-xx-p^-1 *kh-o-n^-0 *m-...  \n",
       "12  00:00:04  k-o-m^-3 *k-o-m^-3 *s-@-ng^-1 *ph-u-z^-3 *ph-q...  \n",
       "13  00:00:02  ph-qq-n^-2 *s-i-z^-1 *s-oo-z^-0 *kl-aa-m^-2 *p...  \n",
       "14  00:00:03  z-oo-z^-0 *kh-ee-z^-0 *c-aa-z^-2\\n*s-u-z^-1 *p...  \n",
       "15  00:00:03  c-aa-z^-2 *ph-@@-z^-3 *k-a-n^-0 *m-a-j^-1 *n-a...  "
      ]
     },
     "execution_count": 151,
     "metadata": {},
     "output_type": "execute_result"
    }
   ],
   "source": [
    "df"
   ]
  },
  {
   "cell_type": "code",
   "execution_count": 152,
   "metadata": {},
   "outputs": [],
   "source": [
    "def replacestr(col1):\n",
    "    co1 = col1.replace(\"/\", \",\")\n",
    "    return co1"
   ]
  },
  {
   "cell_type": "code",
   "execution_count": 153,
   "metadata": {},
   "outputs": [
    {
     "data": {
      "text/plain": [
       "'สวัสดี,สุผู้สุคน,เด้อ,จ้า'"
      ]
     },
     "execution_count": 153,
     "metadata": {},
     "output_type": "execute_result"
    }
   ],
   "source": [
    "replacestr(df.iloc[0,1])"
   ]
  },
  {
   "cell_type": "code",
   "execution_count": 154,
   "metadata": {},
   "outputs": [],
   "source": [
    "list_1 = []\n",
    "list_2 = []\n",
    "for i in range(len(df)):\n",
    "    list_1.append(replacestr(df.iloc[i,1]))\n",
    "    list_2.append(replacestr(df.iloc[i,2]))"
   ]
  },
  {
   "cell_type": "code",
   "execution_count": 155,
   "metadata": {},
   "outputs": [
    {
     "data": {
      "text/plain": [
       "['สวัสดี,สุผู้สุคน,เด้อ,จ้า',\n",
       " 'กิน,ข้าว,ก่อน,เด้อ,จ้า, ไผ,สิ,ถ่า,เค้า,ดาวน์',\n",
       " 'เค้า,ดาว,กะ,ขอ,ให้,เค้า,ดาว,อย่าง,มี,ความ,สุข,นะ,จ้ะ',\n",
       " 'นี่,จ้า,อา,หาร,เย็น,เป็น,ลา,ซาน,ย่า,กับ,ผัก,สด,เด้อ,จ้า',\n",
       " 'ขอ,ให้,เชิญ,แซ่บ,เด้อ,พี่,น้อง',\n",
       " 'แมท,ธิว,บอก,ว่า,อี,แม่,อย่า,พึ่ง,หลับ,เด้อ',\n",
       " 'เงียบ,แฮงจัด',\n",
       " 'บ่,มี,ความ,รื่น,เริง,อี,หยัง,เลย,ข้าง,นอก',\n",
       " 'มื้อ,นี้,สิ,เบิ่ง,พุ,ตอน,หก,ทุ่ม,จ่ะ',\n",
       " 'ถ้า,ฝน,ตก,หิ,มะ,ตก,คึ,สิ,บ่,ได้,ออก,ไป',\n",
       " 'ปี,ที่,แล้ว,ออก,ไป,เบิ่ง,เขา,จุด,พุ,มัน,เป็น,ฝน,หิ,มะ,นะ,จ่ะ',\n",
       " 'เพิ่น,ก้ม,แบบ,คน,เมา,นะ,จ้ะ',\n",
       " 'ก้ม,ก้ม,ส่อง,พุ,เพิ่น,จุด,ละ,เพิ่น,กะ,ก้ม,ส่อง,เพิ่น,บ่,เงย,หน้า,ขึ้น,หั่น,นะ',\n",
       " 'เพิ่น,สิ,โซ,กล้าม,เพิ่น,หั่น,นะ,พี่น้อง',\n",
       " 'โอ,เค,จ้า,สุผู้สุคน,มื้อ,นี้,จั่ง,ใด๋,กะ,ขอบ,คุณ,สุผู้สุคน,ที่,แวะ,เวียน,เข้า,มา,ทัก,ทาย,กับ,ครัว,คุณ,สม,บูรณ์',\n",
       " 'จ้า,พ้อ,กัน,ใหม่,ใน,คลิป,วิ,ดี,โอ,หน้า,สวัสดี,ปี,ใหม่,บ้าย,บาย,จ้า']"
      ]
     },
     "execution_count": 155,
     "metadata": {},
     "output_type": "execute_result"
    }
   ],
   "source": [
    "list_1"
   ]
  },
  {
   "cell_type": "code",
   "execution_count": 156,
   "metadata": {},
   "outputs": [
    {
     "name": "stderr",
     "output_type": "stream",
     "text": [
      "C:\\Users\\User\\Miniconda3\\lib\\site-packages\\ipykernel_launcher.py:1: SettingWithCopyWarning: \n",
      "A value is trying to be set on a copy of a slice from a DataFrame.\n",
      "Try using .loc[row_indexer,col_indexer] = value instead\n",
      "\n",
      "See the caveats in the documentation: http://pandas.pydata.org/pandas-docs/stable/user_guide/indexing.html#returning-a-view-versus-a-copy\n",
      "  \"\"\"Entry point for launching an IPython kernel.\n",
      "C:\\Users\\User\\Miniconda3\\lib\\site-packages\\ipykernel_launcher.py:2: SettingWithCopyWarning: \n",
      "A value is trying to be set on a copy of a slice from a DataFrame.\n",
      "Try using .loc[row_indexer,col_indexer] = value instead\n",
      "\n",
      "See the caveats in the documentation: http://pandas.pydata.org/pandas-docs/stable/user_guide/indexing.html#returning-a-view-versus-a-copy\n",
      "  \n"
     ]
    }
   ],
   "source": [
    "df['ภาษาอีสานใหม่'] = list_1\n",
    "df['ภาษาไทยใหม่'] = list_2"
   ]
  },
  {
   "cell_type": "code",
   "execution_count": 157,
   "metadata": {},
   "outputs": [
    {
     "data": {
      "text/html": [
       "<div>\n",
       "<style scoped>\n",
       "    .dataframe tbody tr th:only-of-type {\n",
       "        vertical-align: middle;\n",
       "    }\n",
       "\n",
       "    .dataframe tbody tr th {\n",
       "        vertical-align: top;\n",
       "    }\n",
       "\n",
       "    .dataframe thead th {\n",
       "        text-align: right;\n",
       "    }\n",
       "</style>\n",
       "<table border=\"1\" class=\"dataframe\">\n",
       "  <thead>\n",
       "    <tr style=\"text-align: right;\">\n",
       "      <th></th>\n",
       "      <th>No</th>\n",
       "      <th>ภาษาอีสาน</th>\n",
       "      <th>ภาษาไทย</th>\n",
       "      <th>เริ่ม</th>\n",
       "      <th>จบ</th>\n",
       "      <th>จบ-เริ่ม</th>\n",
       "      <th>G2P</th>\n",
       "      <th>ภาษาอีสานใหม่</th>\n",
       "      <th>ภาษาไทยใหม่</th>\n",
       "    </tr>\n",
       "  </thead>\n",
       "  <tbody>\n",
       "    <tr>\n",
       "      <th>0</th>\n",
       "      <td>1.0</td>\n",
       "      <td>สวัสดี/สุผู้สุคน/เด้อ/จ้า</td>\n",
       "      <td>สวัสดี/ทุก ๆ คน/นะ/คะ</td>\n",
       "      <td>00:00:16</td>\n",
       "      <td>00:00:18</td>\n",
       "      <td>00:00:02</td>\n",
       "      <td>s-a-z^-1 w-a-t^-1 d-ii-z^-0 *s-u-z^-1 *ph-uu-z...</td>\n",
       "      <td>สวัสดี,สุผู้สุคน,เด้อ,จ้า</td>\n",
       "      <td>สวัสดี,ทุก ๆ คน,นะ,คะ</td>\n",
       "    </tr>\n",
       "    <tr>\n",
       "      <th>1</th>\n",
       "      <td>2.0</td>\n",
       "      <td>กิน/ข้าว/ก่อน/เด้อ/จ้า/ ไผ/สิ/ถ่า/เค้า/ดาวน์</td>\n",
       "      <td>กิน/ข้าว/ก่อน/นะ/จ้ะ/ใคร/จะ/รอ/เค้า/ดาวน์</td>\n",
       "      <td>00:02:14</td>\n",
       "      <td>00:02:18</td>\n",
       "      <td>00:00:04</td>\n",
       "      <td>k-i-n^-0 *kh-aa-w^-2 *k-@@-n^-1 *d-qq-z^-2 *c-...</td>\n",
       "      <td>กิน,ข้าว,ก่อน,เด้อ,จ้า, ไผ,สิ,ถ่า,เค้า,ดาวน์</td>\n",
       "      <td>กิน,ข้าว,ก่อน,นะ,จ้ะ,ใคร,จะ,รอ,เค้า,ดาวน์</td>\n",
       "    </tr>\n",
       "    <tr>\n",
       "      <th>2</th>\n",
       "      <td>3.0</td>\n",
       "      <td>เค้า/ดาว/กะ/ขอ/ให้/เค้า/ดาว/อย่าง/มี/ความ/สุข/...</td>\n",
       "      <td>เค้า/ดาวน์/ก็/ขอ/ให้/เค้า/ดาน์/อย่าง/มี/ความ/ส...</td>\n",
       "      <td>00:02:21</td>\n",
       "      <td>00:02:25</td>\n",
       "      <td>00:00:04</td>\n",
       "      <td>kh-a-w^-3 *d-aa-w^-0 *k-a-z^-1 *kh-@@-z^-4 *h-...</td>\n",
       "      <td>เค้า,ดาว,กะ,ขอ,ให้,เค้า,ดาว,อย่าง,มี,ความ,สุข,...</td>\n",
       "      <td>เค้า,ดาวน์,ก็,ขอ,ให้,เค้า,ดาน์,อย่าง,มี,ความ,ส...</td>\n",
       "    </tr>\n",
       "    <tr>\n",
       "      <th>3</th>\n",
       "      <td>4.0</td>\n",
       "      <td>นี่/จ้า/อา/หาร/เย็น/เป็น/ลา/ซาน/ย่า/กับ/ผัก/สด...</td>\n",
       "      <td>นี่/จ้า/อา/หาร/เย็น/เป็น/ลา/ซาน/ย่า/กับ/ผัก/สด...</td>\n",
       "      <td>00:02:33</td>\n",
       "      <td>00:02:37</td>\n",
       "      <td>00:00:04</td>\n",
       "      <td>n-ii-z^-2 *c-aa-z^-2 *z-aa-z^-0 *h-aa-n^-4 *j-...</td>\n",
       "      <td>นี่,จ้า,อา,หาร,เย็น,เป็น,ลา,ซาน,ย่า,กับ,ผัก,สด...</td>\n",
       "      <td>นี่,จ้า,อา,หาร,เย็น,เป็น,ลา,ซาน,ย่า,กับ,ผัก,สด...</td>\n",
       "    </tr>\n",
       "    <tr>\n",
       "      <th>4</th>\n",
       "      <td>5.0</td>\n",
       "      <td>ขอ/ให้/เชิญ/แซ่บ/เด้อ/พี่/น้อง</td>\n",
       "      <td>ขอ/ให้/เชิญ/อร่อย/นะ/ทุก/คน</td>\n",
       "      <td>00:02:38</td>\n",
       "      <td>00:02:41</td>\n",
       "      <td>00:00:03</td>\n",
       "      <td>kh-@@-z^-4 *h-a-j^-2 *ch-qq-n^-0 *s-xx-p^-2 *d...</td>\n",
       "      <td>ขอ,ให้,เชิญ,แซ่บ,เด้อ,พี่,น้อง</td>\n",
       "      <td>ขอ,ให้,เชิญ,อร่อย,นะ,ทุก,คน</td>\n",
       "    </tr>\n",
       "    <tr>\n",
       "      <th>5</th>\n",
       "      <td>6.0</td>\n",
       "      <td>แมท/ธิว/บอก/ว่า/อี/แม่/อย่า/พึ่ง/หลับ/เด้อ</td>\n",
       "      <td>แมท/ธิว/บอก/ว่า/คุณ/แม่/อย่า/พึ่ง/หลับ/นะ</td>\n",
       "      <td>00:03:08</td>\n",
       "      <td>00:03:08</td>\n",
       "      <td>00:00:00</td>\n",
       "      <td>m-xx-t^-1 *th-i-w^-0 *b-@@-k^-1 *w-aa-z^-2 *z-...</td>\n",
       "      <td>แมท,ธิว,บอก,ว่า,อี,แม่,อย่า,พึ่ง,หลับ,เด้อ</td>\n",
       "      <td>แมท,ธิว,บอก,ว่า,คุณ,แม่,อย่า,พึ่ง,หลับ,นะ</td>\n",
       "    </tr>\n",
       "    <tr>\n",
       "      <th>6</th>\n",
       "      <td>7.0</td>\n",
       "      <td>เงียบ/แฮงจัด</td>\n",
       "      <td>เงียบ/มาก ๆ</td>\n",
       "      <td>00:09:51</td>\n",
       "      <td>00:09:53</td>\n",
       "      <td>00:00:02</td>\n",
       "      <td>ng-iia-p^-2 *h-xx-ng^-0 *c-a-t^-1</td>\n",
       "      <td>เงียบ,แฮงจัด</td>\n",
       "      <td>เงียบ,มาก ๆ</td>\n",
       "    </tr>\n",
       "    <tr>\n",
       "      <th>7</th>\n",
       "      <td>8.0</td>\n",
       "      <td>บ่/มี/ความ/รื่น/เริง/อี/หยัง/เลย/ข้าง/นอก</td>\n",
       "      <td>ไม่/มี/ความ/รื่น/เริง/อะ/ไร/เลย/ด้าน/นอก</td>\n",
       "      <td>00:10:07</td>\n",
       "      <td>00:10:11</td>\n",
       "      <td>00:00:04</td>\n",
       "      <td>b-@@-z^-1 *m-ii-z^-0 *khw-aa-m^-0 *r-vv-n^-2 *...</td>\n",
       "      <td>บ่,มี,ความ,รื่น,เริง,อี,หยัง,เลย,ข้าง,นอก</td>\n",
       "      <td>ไม่,มี,ความ,รื่น,เริง,อะ,ไร,เลย,ด้าน,นอก</td>\n",
       "    </tr>\n",
       "    <tr>\n",
       "      <th>8</th>\n",
       "      <td>9.0</td>\n",
       "      <td>มื้อ/นี้/สิ/เบิ่ง/พุ/ตอน/หก/ทุ่ม/จ่ะ</td>\n",
       "      <td>วัน/นี้/จะ/ดู/พุ/ตอน/หก/ทุ่ม/นะ/คะ</td>\n",
       "      <td>00:10:29</td>\n",
       "      <td>00:10:33</td>\n",
       "      <td>00:00:04</td>\n",
       "      <td>m-vv-z^-3 *n-ii-z^-3 *s-i-z^-1 *b-q-ng^-1 *ph-...</td>\n",
       "      <td>มื้อ,นี้,สิ,เบิ่ง,พุ,ตอน,หก,ทุ่ม,จ่ะ</td>\n",
       "      <td>วัน,นี้,จะ,ดู,พุ,ตอน,หก,ทุ่ม,นะ,คะ</td>\n",
       "    </tr>\n",
       "    <tr>\n",
       "      <th>9</th>\n",
       "      <td>10.0</td>\n",
       "      <td>ถ้า/ฝน/ตก/หิ/มะ/ตก/คึ/สิ/บ่/ได้/ออก/ไป</td>\n",
       "      <td>ถ้า/ฝน/ตก/หิ/มะ/ตก/คง/จะ/ไม่/ได้/ออก/ไป</td>\n",
       "      <td>00:10:40</td>\n",
       "      <td>00:10:43</td>\n",
       "      <td>00:00:03</td>\n",
       "      <td>th-aa-z^-2 *f-o-n^-4 *t-o-k^-1 *h-i-z^-1 *m-a-...</td>\n",
       "      <td>ถ้า,ฝน,ตก,หิ,มะ,ตก,คึ,สิ,บ่,ได้,ออก,ไป</td>\n",
       "      <td>ถ้า,ฝน,ตก,หิ,มะ,ตก,คง,จะ,ไม่,ได้,ออก,ไป</td>\n",
       "    </tr>\n",
       "    <tr>\n",
       "      <th>10</th>\n",
       "      <td>11.0</td>\n",
       "      <td>ปี/ที่/แล้ว/ออก/ไป/เบิ่ง/เขา/จุด/พุ/มัน/เป็น/ฝ...</td>\n",
       "      <td>ปี/ที่/แล้ว/ออก/ไป/ดู/เขา/จุด/พุ/มัน/เป็น/ฝน/ห...</td>\n",
       "      <td>00:10:52</td>\n",
       "      <td>00:10:56</td>\n",
       "      <td>00:00:04</td>\n",
       "      <td>p-ii-z^-0 *th-ii-z^-2 *l-xx-w^-3 *z-@@-k^-1 *p...</td>\n",
       "      <td>ปี,ที่,แล้ว,ออก,ไป,เบิ่ง,เขา,จุด,พุ,มัน,เป็น,ฝ...</td>\n",
       "      <td>ปี,ที่,แล้ว,ออก,ไป,ดู,เขา,จุด,พุ,มัน,เป็น,ฝน,ห...</td>\n",
       "    </tr>\n",
       "    <tr>\n",
       "      <th>11</th>\n",
       "      <td>12.0</td>\n",
       "      <td>เพิ่น/ก้ม/แบบ/คน/เมา/นะ/จ้ะ</td>\n",
       "      <td>เขา/ก้ม/แบบ/คน/เมา/อ่ะ/ค่ะ</td>\n",
       "      <td>00:11:09</td>\n",
       "      <td>00:11:12</td>\n",
       "      <td>00:00:03</td>\n",
       "      <td>ph-qq-n^-2 *k-o-m^-3 *b-xx-p^-1 *kh-o-n^-0 *m-...</td>\n",
       "      <td>เพิ่น,ก้ม,แบบ,คน,เมา,นะ,จ้ะ</td>\n",
       "      <td>เขา,ก้ม,แบบ,คน,เมา,อ่ะ,ค่ะ</td>\n",
       "    </tr>\n",
       "    <tr>\n",
       "      <th>12</th>\n",
       "      <td>13.0</td>\n",
       "      <td>ก้ม/ก้ม/ส่อง/พุ/เพิ่น/จุด/ละ/เพิ่น/กะ/ก้ม/ส่อง...</td>\n",
       "      <td>ก้ม/ก้ม/ส่อง/พุ/เขา/จุด/ละ/เขา/ก็/ก้ม/ส่อง/เขา...</td>\n",
       "      <td>00:11:14</td>\n",
       "      <td>00:11:18</td>\n",
       "      <td>00:00:04</td>\n",
       "      <td>k-o-m^-3 *k-o-m^-3 *s-@-ng^-1 *ph-u-z^-3 *ph-q...</td>\n",
       "      <td>ก้ม,ก้ม,ส่อง,พุ,เพิ่น,จุด,ละ,เพิ่น,กะ,ก้ม,ส่อง...</td>\n",
       "      <td>ก้ม,ก้ม,ส่อง,พุ,เขา,จุด,ละ,เขา,ก็,ก้ม,ส่อง,เขา...</td>\n",
       "    </tr>\n",
       "    <tr>\n",
       "      <th>13</th>\n",
       "      <td>14.0</td>\n",
       "      <td>เพิ่น/สิ/โซ/กล้าม/เพิ่น/หั่น/นะ/พี่น้อง</td>\n",
       "      <td>เขา/จะ/โชว์/กล้าม/เขา/นั่น/แหละ/ทุกคน</td>\n",
       "      <td>00:13:11</td>\n",
       "      <td>00:13:13</td>\n",
       "      <td>00:00:02</td>\n",
       "      <td>ph-qq-n^-2 *s-i-z^-1 *s-oo-z^-0 *kl-aa-m^-2 *p...</td>\n",
       "      <td>เพิ่น,สิ,โซ,กล้าม,เพิ่น,หั่น,นะ,พี่น้อง</td>\n",
       "      <td>เขา,จะ,โชว์,กล้าม,เขา,นั่น,แหละ,ทุกคน</td>\n",
       "    </tr>\n",
       "    <tr>\n",
       "      <th>14</th>\n",
       "      <td>15.0</td>\n",
       "      <td>โอ/เค/จ้า/สุผู้สุคน/มื้อ/นี้/จั่ง/ใด๋/กะ/ขอบ/ค...</td>\n",
       "      <td>โอ/เค/จ้า/ทุก ๆ  คน/วัน/นี้/ยัง/ไง/ก็/ขอบ/คุณ/...</td>\n",
       "      <td>00:15:23</td>\n",
       "      <td>00:15:26</td>\n",
       "      <td>00:00:03</td>\n",
       "      <td>z-oo-z^-0 *kh-ee-z^-0 *c-aa-z^-2\\n*s-u-z^-1 *p...</td>\n",
       "      <td>โอ,เค,จ้า,สุผู้สุคน,มื้อ,นี้,จั่ง,ใด๋,กะ,ขอบ,ค...</td>\n",
       "      <td>โอ,เค,จ้า,ทุก ๆ  คน,วัน,นี้,ยัง,ไง,ก็,ขอบ,คุณ,...</td>\n",
       "    </tr>\n",
       "    <tr>\n",
       "      <th>15</th>\n",
       "      <td>16.0</td>\n",
       "      <td>จ้า/พ้อ/กัน/ใหม่/ใน/คลิป/วิ/ดี/โอ/หน้า/สวัสดี/...</td>\n",
       "      <td>จ้า/เจอ/กัน/ใหม่/ใน/คลิป/วิ/ดี/โอ/หน้า/สวัสดี/...</td>\n",
       "      <td>00:15:30</td>\n",
       "      <td>00:15:33</td>\n",
       "      <td>00:00:03</td>\n",
       "      <td>c-aa-z^-2 *ph-@@-z^-3 *k-a-n^-0 *m-a-j^-1 *n-a...</td>\n",
       "      <td>จ้า,พ้อ,กัน,ใหม่,ใน,คลิป,วิ,ดี,โอ,หน้า,สวัสดี,...</td>\n",
       "      <td>จ้า,เจอ,กัน,ใหม่,ใน,คลิป,วิ,ดี,โอ,หน้า,สวัสดี,...</td>\n",
       "    </tr>\n",
       "  </tbody>\n",
       "</table>\n",
       "</div>"
      ],
      "text/plain": [
       "      No                                          ภาษาอีสาน  \\\n",
       "0    1.0                          สวัสดี/สุผู้สุคน/เด้อ/จ้า   \n",
       "1    2.0       กิน/ข้าว/ก่อน/เด้อ/จ้า/ ไผ/สิ/ถ่า/เค้า/ดาวน์   \n",
       "2    3.0  เค้า/ดาว/กะ/ขอ/ให้/เค้า/ดาว/อย่าง/มี/ความ/สุข/...   \n",
       "3    4.0  นี่/จ้า/อา/หาร/เย็น/เป็น/ลา/ซาน/ย่า/กับ/ผัก/สด...   \n",
       "4    5.0                     ขอ/ให้/เชิญ/แซ่บ/เด้อ/พี่/น้อง   \n",
       "5    6.0         แมท/ธิว/บอก/ว่า/อี/แม่/อย่า/พึ่ง/หลับ/เด้อ   \n",
       "6    7.0                                       เงียบ/แฮงจัด   \n",
       "7    8.0          บ่/มี/ความ/รื่น/เริง/อี/หยัง/เลย/ข้าง/นอก   \n",
       "8    9.0               มื้อ/นี้/สิ/เบิ่ง/พุ/ตอน/หก/ทุ่ม/จ่ะ   \n",
       "9   10.0             ถ้า/ฝน/ตก/หิ/มะ/ตก/คึ/สิ/บ่/ได้/ออก/ไป   \n",
       "10  11.0  ปี/ที่/แล้ว/ออก/ไป/เบิ่ง/เขา/จุด/พุ/มัน/เป็น/ฝ...   \n",
       "11  12.0                        เพิ่น/ก้ม/แบบ/คน/เมา/นะ/จ้ะ   \n",
       "12  13.0  ก้ม/ก้ม/ส่อง/พุ/เพิ่น/จุด/ละ/เพิ่น/กะ/ก้ม/ส่อง...   \n",
       "13  14.0            เพิ่น/สิ/โซ/กล้าม/เพิ่น/หั่น/นะ/พี่น้อง   \n",
       "14  15.0  โอ/เค/จ้า/สุผู้สุคน/มื้อ/นี้/จั่ง/ใด๋/กะ/ขอบ/ค...   \n",
       "15  16.0  จ้า/พ้อ/กัน/ใหม่/ใน/คลิป/วิ/ดี/โอ/หน้า/สวัสดี/...   \n",
       "\n",
       "                                              ภาษาไทย     เริ่ม        จบ  \\\n",
       "0                               สวัสดี/ทุก ๆ คน/นะ/คะ  00:00:16  00:00:18   \n",
       "1           กิน/ข้าว/ก่อน/นะ/จ้ะ/ใคร/จะ/รอ/เค้า/ดาวน์  00:02:14  00:02:18   \n",
       "2   เค้า/ดาวน์/ก็/ขอ/ให้/เค้า/ดาน์/อย่าง/มี/ความ/ส...  00:02:21  00:02:25   \n",
       "3   นี่/จ้า/อา/หาร/เย็น/เป็น/ลา/ซาน/ย่า/กับ/ผัก/สด...  00:02:33  00:02:37   \n",
       "4                         ขอ/ให้/เชิญ/อร่อย/นะ/ทุก/คน  00:02:38  00:02:41   \n",
       "5           แมท/ธิว/บอก/ว่า/คุณ/แม่/อย่า/พึ่ง/หลับ/นะ  00:03:08  00:03:08   \n",
       "6                                         เงียบ/มาก ๆ  00:09:51  00:09:53   \n",
       "7            ไม่/มี/ความ/รื่น/เริง/อะ/ไร/เลย/ด้าน/นอก  00:10:07  00:10:11   \n",
       "8                  วัน/นี้/จะ/ดู/พุ/ตอน/หก/ทุ่ม/นะ/คะ  00:10:29  00:10:33   \n",
       "9             ถ้า/ฝน/ตก/หิ/มะ/ตก/คง/จะ/ไม่/ได้/ออก/ไป  00:10:40  00:10:43   \n",
       "10  ปี/ที่/แล้ว/ออก/ไป/ดู/เขา/จุด/พุ/มัน/เป็น/ฝน/ห...  00:10:52  00:10:56   \n",
       "11                         เขา/ก้ม/แบบ/คน/เมา/อ่ะ/ค่ะ  00:11:09  00:11:12   \n",
       "12  ก้ม/ก้ม/ส่อง/พุ/เขา/จุด/ละ/เขา/ก็/ก้ม/ส่อง/เขา...  00:11:14  00:11:18   \n",
       "13              เขา/จะ/โชว์/กล้าม/เขา/นั่น/แหละ/ทุกคน  00:13:11  00:13:13   \n",
       "14  โอ/เค/จ้า/ทุก ๆ  คน/วัน/นี้/ยัง/ไง/ก็/ขอบ/คุณ/...  00:15:23  00:15:26   \n",
       "15  จ้า/เจอ/กัน/ใหม่/ใน/คลิป/วิ/ดี/โอ/หน้า/สวัสดี/...  00:15:30  00:15:33   \n",
       "\n",
       "    จบ-เริ่ม                                                G2P  \\\n",
       "0   00:00:02  s-a-z^-1 w-a-t^-1 d-ii-z^-0 *s-u-z^-1 *ph-uu-z...   \n",
       "1   00:00:04  k-i-n^-0 *kh-aa-w^-2 *k-@@-n^-1 *d-qq-z^-2 *c-...   \n",
       "2   00:00:04  kh-a-w^-3 *d-aa-w^-0 *k-a-z^-1 *kh-@@-z^-4 *h-...   \n",
       "3   00:00:04  n-ii-z^-2 *c-aa-z^-2 *z-aa-z^-0 *h-aa-n^-4 *j-...   \n",
       "4   00:00:03  kh-@@-z^-4 *h-a-j^-2 *ch-qq-n^-0 *s-xx-p^-2 *d...   \n",
       "5   00:00:00  m-xx-t^-1 *th-i-w^-0 *b-@@-k^-1 *w-aa-z^-2 *z-...   \n",
       "6   00:00:02                  ng-iia-p^-2 *h-xx-ng^-0 *c-a-t^-1   \n",
       "7   00:00:04  b-@@-z^-1 *m-ii-z^-0 *khw-aa-m^-0 *r-vv-n^-2 *...   \n",
       "8   00:00:04  m-vv-z^-3 *n-ii-z^-3 *s-i-z^-1 *b-q-ng^-1 *ph-...   \n",
       "9   00:00:03  th-aa-z^-2 *f-o-n^-4 *t-o-k^-1 *h-i-z^-1 *m-a-...   \n",
       "10  00:00:04  p-ii-z^-0 *th-ii-z^-2 *l-xx-w^-3 *z-@@-k^-1 *p...   \n",
       "11  00:00:03  ph-qq-n^-2 *k-o-m^-3 *b-xx-p^-1 *kh-o-n^-0 *m-...   \n",
       "12  00:00:04  k-o-m^-3 *k-o-m^-3 *s-@-ng^-1 *ph-u-z^-3 *ph-q...   \n",
       "13  00:00:02  ph-qq-n^-2 *s-i-z^-1 *s-oo-z^-0 *kl-aa-m^-2 *p...   \n",
       "14  00:00:03  z-oo-z^-0 *kh-ee-z^-0 *c-aa-z^-2\\n*s-u-z^-1 *p...   \n",
       "15  00:00:03  c-aa-z^-2 *ph-@@-z^-3 *k-a-n^-0 *m-a-j^-1 *n-a...   \n",
       "\n",
       "                                        ภาษาอีสานใหม่  \\\n",
       "0                           สวัสดี,สุผู้สุคน,เด้อ,จ้า   \n",
       "1        กิน,ข้าว,ก่อน,เด้อ,จ้า, ไผ,สิ,ถ่า,เค้า,ดาวน์   \n",
       "2   เค้า,ดาว,กะ,ขอ,ให้,เค้า,ดาว,อย่าง,มี,ความ,สุข,...   \n",
       "3   นี่,จ้า,อา,หาร,เย็น,เป็น,ลา,ซาน,ย่า,กับ,ผัก,สด...   \n",
       "4                      ขอ,ให้,เชิญ,แซ่บ,เด้อ,พี่,น้อง   \n",
       "5          แมท,ธิว,บอก,ว่า,อี,แม่,อย่า,พึ่ง,หลับ,เด้อ   \n",
       "6                                        เงียบ,แฮงจัด   \n",
       "7           บ่,มี,ความ,รื่น,เริง,อี,หยัง,เลย,ข้าง,นอก   \n",
       "8                มื้อ,นี้,สิ,เบิ่ง,พุ,ตอน,หก,ทุ่ม,จ่ะ   \n",
       "9              ถ้า,ฝน,ตก,หิ,มะ,ตก,คึ,สิ,บ่,ได้,ออก,ไป   \n",
       "10  ปี,ที่,แล้ว,ออก,ไป,เบิ่ง,เขา,จุด,พุ,มัน,เป็น,ฝ...   \n",
       "11                        เพิ่น,ก้ม,แบบ,คน,เมา,นะ,จ้ะ   \n",
       "12  ก้ม,ก้ม,ส่อง,พุ,เพิ่น,จุด,ละ,เพิ่น,กะ,ก้ม,ส่อง...   \n",
       "13            เพิ่น,สิ,โซ,กล้าม,เพิ่น,หั่น,นะ,พี่น้อง   \n",
       "14  โอ,เค,จ้า,สุผู้สุคน,มื้อ,นี้,จั่ง,ใด๋,กะ,ขอบ,ค...   \n",
       "15  จ้า,พ้อ,กัน,ใหม่,ใน,คลิป,วิ,ดี,โอ,หน้า,สวัสดี,...   \n",
       "\n",
       "                                          ภาษาไทยใหม่  \n",
       "0                               สวัสดี,ทุก ๆ คน,นะ,คะ  \n",
       "1           กิน,ข้าว,ก่อน,นะ,จ้ะ,ใคร,จะ,รอ,เค้า,ดาวน์  \n",
       "2   เค้า,ดาวน์,ก็,ขอ,ให้,เค้า,ดาน์,อย่าง,มี,ความ,ส...  \n",
       "3   นี่,จ้า,อา,หาร,เย็น,เป็น,ลา,ซาน,ย่า,กับ,ผัก,สด...  \n",
       "4                         ขอ,ให้,เชิญ,อร่อย,นะ,ทุก,คน  \n",
       "5           แมท,ธิว,บอก,ว่า,คุณ,แม่,อย่า,พึ่ง,หลับ,นะ  \n",
       "6                                         เงียบ,มาก ๆ  \n",
       "7            ไม่,มี,ความ,รื่น,เริง,อะ,ไร,เลย,ด้าน,นอก  \n",
       "8                  วัน,นี้,จะ,ดู,พุ,ตอน,หก,ทุ่ม,นะ,คะ  \n",
       "9             ถ้า,ฝน,ตก,หิ,มะ,ตก,คง,จะ,ไม่,ได้,ออก,ไป  \n",
       "10  ปี,ที่,แล้ว,ออก,ไป,ดู,เขา,จุด,พุ,มัน,เป็น,ฝน,ห...  \n",
       "11                         เขา,ก้ม,แบบ,คน,เมา,อ่ะ,ค่ะ  \n",
       "12  ก้ม,ก้ม,ส่อง,พุ,เขา,จุด,ละ,เขา,ก็,ก้ม,ส่อง,เขา...  \n",
       "13              เขา,จะ,โชว์,กล้าม,เขา,นั่น,แหละ,ทุกคน  \n",
       "14  โอ,เค,จ้า,ทุก ๆ  คน,วัน,นี้,ยัง,ไง,ก็,ขอบ,คุณ,...  \n",
       "15  จ้า,เจอ,กัน,ใหม่,ใน,คลิป,วิ,ดี,โอ,หน้า,สวัสดี,...  "
      ]
     },
     "execution_count": 157,
     "metadata": {},
     "output_type": "execute_result"
    }
   ],
   "source": [
    "df"
   ]
  },
  {
   "cell_type": "code",
   "execution_count": 158,
   "metadata": {},
   "outputs": [],
   "source": [
    "def splitstr(col1):\n",
    "    co1 = col1.split('/')\n",
    "    return co1"
   ]
  },
  {
   "cell_type": "code",
   "execution_count": 159,
   "metadata": {},
   "outputs": [
    {
     "data": {
      "text/plain": [
       "['สวัสดี', 'สุผู้สุคน', 'เด้อ', 'จ้า']"
      ]
     },
     "execution_count": 159,
     "metadata": {},
     "output_type": "execute_result"
    }
   ],
   "source": [
    "splitstr(df.iloc[0,1])"
   ]
  },
  {
   "cell_type": "code",
   "execution_count": 160,
   "metadata": {},
   "outputs": [],
   "source": [
    "list_11 = []\n",
    "list_22 = []\n",
    "for i in range(0,7):\n",
    "    list_11 += splitstr(df.iloc[i,1])\n",
    "    list_22 += splitstr(df.iloc[i,2])"
   ]
  },
  {
   "cell_type": "code",
   "execution_count": 161,
   "metadata": {},
   "outputs": [],
   "source": [
    "def New(col1,col2):\n",
    "    str = f'{col1} เท่ากับ {col2}'\n",
    "    return str"
   ]
  },
  {
   "cell_type": "code",
   "execution_count": 170,
   "metadata": {},
   "outputs": [],
   "source": [
    "New2 = []\n",
    "for i in range(len(list_11)):\n",
    "    New2 += [New(list_11[i],list_22[i])]"
   ]
  },
  {
   "cell_type": "code",
   "execution_count": 171,
   "metadata": {},
   "outputs": [
    {
     "data": {
      "text/plain": [
       "'สุผู้สุคน'"
      ]
     },
     "execution_count": 171,
     "metadata": {},
     "output_type": "execute_result"
    }
   ],
   "source": [
    "list_11[1]"
   ]
  },
  {
   "cell_type": "code",
   "execution_count": 172,
   "metadata": {},
   "outputs": [
    {
     "data": {
      "text/plain": [
       "'สุผู้สุคน เท่ากับ สุผู้สุคน'"
      ]
     },
     "execution_count": 172,
     "metadata": {},
     "output_type": "execute_result"
    }
   ],
   "source": [
    "New(list_11[1],list_11[1])"
   ]
  },
  {
   "cell_type": "code",
   "execution_count": 173,
   "metadata": {},
   "outputs": [],
   "source": [
    "Uoil = set(oil)"
   ]
  },
  {
   "cell_type": "code",
   "execution_count": 174,
   "metadata": {},
   "outputs": [
    {
     "data": {
      "text/plain": [
       "{' ไผ เท่ากับ ใคร',\n",
       " 'กะ เท่ากับ ก็',\n",
       " 'กับ เท่ากับ กับ',\n",
       " 'กิน เท่ากับ กิน',\n",
       " 'ก่อน เท่ากับ ก่อน',\n",
       " 'ขอ เท่ากับ ขอ',\n",
       " 'ข้าว เท่ากับ ข้าว',\n",
       " 'ความ เท่ากับ ความ',\n",
       " 'จ้ะ เท่ากับ จ้ะ',\n",
       " 'จ้า เท่ากับ คะ',\n",
       " 'จ้า เท่ากับ จ้ะ',\n",
       " 'จ้า เท่ากับ จ้า',\n",
       " 'ซาน เท่ากับ ซาน',\n",
       " 'ดาว เท่ากับ ดาน์',\n",
       " 'ดาว เท่ากับ ดาวน์',\n",
       " 'ดาวน์ เท่ากับ ดาวน์',\n",
       " 'ถ่า เท่ากับ รอ',\n",
       " 'ธิว เท่ากับ ธิว',\n",
       " 'นะ เท่ากับ นะ',\n",
       " 'นี่ เท่ากับ นี่',\n",
       " 'น้อง เท่ากับ คน',\n",
       " 'บอก เท่ากับ บอก',\n",
       " 'ผัก เท่ากับ ผัก',\n",
       " 'พี่ เท่ากับ ทุก',\n",
       " 'พึ่ง เท่ากับ พึ่ง',\n",
       " 'มี เท่ากับ มี',\n",
       " 'ย่า เท่ากับ ย่า',\n",
       " 'ลา เท่ากับ ลา',\n",
       " 'ว่า เท่ากับ ว่า',\n",
       " 'สด เท่ากับ สด',\n",
       " 'สวัสดี เท่ากับ สวัสดี',\n",
       " 'สิ เท่ากับ จะ',\n",
       " 'สุข เท่ากับ สุข',\n",
       " 'สุผู้สุคน เท่ากับ ทุก ๆ คน',\n",
       " 'หลับ เท่ากับ หลับ',\n",
       " 'หาร เท่ากับ หาร',\n",
       " 'อย่า เท่ากับ อย่า',\n",
       " 'อย่าง เท่ากับ อย่าง',\n",
       " 'อา เท่ากับ อา',\n",
       " 'อี เท่ากับ คุณ',\n",
       " 'เค้า เท่ากับ เค้า',\n",
       " 'เงียบ เท่ากับ เงียบ',\n",
       " 'เชิญ เท่ากับ เชิญ',\n",
       " 'เด้อ เท่ากับ นะ',\n",
       " 'เป็น เท่ากับ เป็น',\n",
       " 'เย็น เท่ากับ เย็น',\n",
       " 'แซ่บ เท่ากับ อร่อย',\n",
       " 'แมท เท่ากับ แมท',\n",
       " 'แม่ เท่ากับ แม่',\n",
       " 'แฮงจัด เท่ากับ มาก ๆ',\n",
       " 'ให้ เท่ากับ ให้'}"
      ]
     },
     "execution_count": 174,
     "metadata": {},
     "output_type": "execute_result"
    }
   ],
   "source": [
    "Uoil"
   ]
  },
  {
   "cell_type": "code",
   "execution_count": 175,
   "metadata": {},
   "outputs": [
    {
     "data": {
      "text/html": [
       "<div>\n",
       "<style scoped>\n",
       "    .dataframe tbody tr th:only-of-type {\n",
       "        vertical-align: middle;\n",
       "    }\n",
       "\n",
       "    .dataframe tbody tr th {\n",
       "        vertical-align: top;\n",
       "    }\n",
       "\n",
       "    .dataframe thead th {\n",
       "        text-align: right;\n",
       "    }\n",
       "</style>\n",
       "<table border=\"1\" class=\"dataframe\">\n",
       "  <thead>\n",
       "    <tr style=\"text-align: right;\">\n",
       "      <th></th>\n",
       "      <th>No</th>\n",
       "      <th>ภาษาอีสาน</th>\n",
       "      <th>ภาษาไทย</th>\n",
       "      <th>เริ่ม</th>\n",
       "      <th>จบ</th>\n",
       "      <th>จบ-เริ่ม</th>\n",
       "      <th>G2P</th>\n",
       "      <th>ภาษาอีสานใหม่</th>\n",
       "      <th>ภาษาไทยใหม่</th>\n",
       "    </tr>\n",
       "  </thead>\n",
       "  <tbody>\n",
       "    <tr>\n",
       "      <th>0</th>\n",
       "      <td>1.0</td>\n",
       "      <td>สวัสดี/สุผู้สุคน/เด้อ/จ้า</td>\n",
       "      <td>สวัสดี/ทุก ๆ คน/นะ/คะ</td>\n",
       "      <td>00:00:16</td>\n",
       "      <td>00:00:18</td>\n",
       "      <td>00:00:02</td>\n",
       "      <td>s-a-z^-1 w-a-t^-1 d-ii-z^-0 *s-u-z^-1 *ph-uu-z...</td>\n",
       "      <td>สวัสดี,สุผู้สุคน,เด้อ,จ้า</td>\n",
       "      <td>สวัสดี,ทุก ๆ คน,นะ,คะ</td>\n",
       "    </tr>\n",
       "    <tr>\n",
       "      <th>1</th>\n",
       "      <td>2.0</td>\n",
       "      <td>กิน/ข้าว/ก่อน/เด้อ/จ้า/ ไผ/สิ/ถ่า/เค้า/ดาวน์</td>\n",
       "      <td>กิน/ข้าว/ก่อน/นะ/จ้ะ/ใคร/จะ/รอ/เค้า/ดาวน์</td>\n",
       "      <td>00:02:14</td>\n",
       "      <td>00:02:18</td>\n",
       "      <td>00:00:04</td>\n",
       "      <td>k-i-n^-0 *kh-aa-w^-2 *k-@@-n^-1 *d-qq-z^-2 *c-...</td>\n",
       "      <td>กิน,ข้าว,ก่อน,เด้อ,จ้า, ไผ,สิ,ถ่า,เค้า,ดาวน์</td>\n",
       "      <td>กิน,ข้าว,ก่อน,นะ,จ้ะ,ใคร,จะ,รอ,เค้า,ดาวน์</td>\n",
       "    </tr>\n",
       "    <tr>\n",
       "      <th>2</th>\n",
       "      <td>3.0</td>\n",
       "      <td>เค้า/ดาว/กะ/ขอ/ให้/เค้า/ดาว/อย่าง/มี/ความ/สุข/...</td>\n",
       "      <td>เค้า/ดาวน์/ก็/ขอ/ให้/เค้า/ดาน์/อย่าง/มี/ความ/ส...</td>\n",
       "      <td>00:02:21</td>\n",
       "      <td>00:02:25</td>\n",
       "      <td>00:00:04</td>\n",
       "      <td>kh-a-w^-3 *d-aa-w^-0 *k-a-z^-1 *kh-@@-z^-4 *h-...</td>\n",
       "      <td>เค้า,ดาว,กะ,ขอ,ให้,เค้า,ดาว,อย่าง,มี,ความ,สุข,...</td>\n",
       "      <td>เค้า,ดาวน์,ก็,ขอ,ให้,เค้า,ดาน์,อย่าง,มี,ความ,ส...</td>\n",
       "    </tr>\n",
       "    <tr>\n",
       "      <th>3</th>\n",
       "      <td>4.0</td>\n",
       "      <td>นี่/จ้า/อา/หาร/เย็น/เป็น/ลา/ซาน/ย่า/กับ/ผัก/สด...</td>\n",
       "      <td>นี่/จ้า/อา/หาร/เย็น/เป็น/ลา/ซาน/ย่า/กับ/ผัก/สด...</td>\n",
       "      <td>00:02:33</td>\n",
       "      <td>00:02:37</td>\n",
       "      <td>00:00:04</td>\n",
       "      <td>n-ii-z^-2 *c-aa-z^-2 *z-aa-z^-0 *h-aa-n^-4 *j-...</td>\n",
       "      <td>นี่,จ้า,อา,หาร,เย็น,เป็น,ลา,ซาน,ย่า,กับ,ผัก,สด...</td>\n",
       "      <td>นี่,จ้า,อา,หาร,เย็น,เป็น,ลา,ซาน,ย่า,กับ,ผัก,สด...</td>\n",
       "    </tr>\n",
       "    <tr>\n",
       "      <th>4</th>\n",
       "      <td>5.0</td>\n",
       "      <td>ขอ/ให้/เชิญ/แซ่บ/เด้อ/พี่/น้อง</td>\n",
       "      <td>ขอ/ให้/เชิญ/อร่อย/นะ/ทุก/คน</td>\n",
       "      <td>00:02:38</td>\n",
       "      <td>00:02:41</td>\n",
       "      <td>00:00:03</td>\n",
       "      <td>kh-@@-z^-4 *h-a-j^-2 *ch-qq-n^-0 *s-xx-p^-2 *d...</td>\n",
       "      <td>ขอ,ให้,เชิญ,แซ่บ,เด้อ,พี่,น้อง</td>\n",
       "      <td>ขอ,ให้,เชิญ,อร่อย,นะ,ทุก,คน</td>\n",
       "    </tr>\n",
       "    <tr>\n",
       "      <th>5</th>\n",
       "      <td>6.0</td>\n",
       "      <td>แมท/ธิว/บอก/ว่า/อี/แม่/อย่า/พึ่ง/หลับ/เด้อ</td>\n",
       "      <td>แมท/ธิว/บอก/ว่า/คุณ/แม่/อย่า/พึ่ง/หลับ/นะ</td>\n",
       "      <td>00:03:08</td>\n",
       "      <td>00:03:08</td>\n",
       "      <td>00:00:00</td>\n",
       "      <td>m-xx-t^-1 *th-i-w^-0 *b-@@-k^-1 *w-aa-z^-2 *z-...</td>\n",
       "      <td>แมท,ธิว,บอก,ว่า,อี,แม่,อย่า,พึ่ง,หลับ,เด้อ</td>\n",
       "      <td>แมท,ธิว,บอก,ว่า,คุณ,แม่,อย่า,พึ่ง,หลับ,นะ</td>\n",
       "    </tr>\n",
       "    <tr>\n",
       "      <th>6</th>\n",
       "      <td>7.0</td>\n",
       "      <td>เงียบ/แฮงจัด</td>\n",
       "      <td>เงียบ/มาก ๆ</td>\n",
       "      <td>00:09:51</td>\n",
       "      <td>00:09:53</td>\n",
       "      <td>00:00:02</td>\n",
       "      <td>ng-iia-p^-2 *h-xx-ng^-0 *c-a-t^-1</td>\n",
       "      <td>เงียบ,แฮงจัด</td>\n",
       "      <td>เงียบ,มาก ๆ</td>\n",
       "    </tr>\n",
       "    <tr>\n",
       "      <th>7</th>\n",
       "      <td>8.0</td>\n",
       "      <td>บ่/มี/ความ/รื่น/เริง/อี/หยัง/เลย/ข้าง/นอก</td>\n",
       "      <td>ไม่/มี/ความ/รื่น/เริง/อะ/ไร/เลย/ด้าน/นอก</td>\n",
       "      <td>00:10:07</td>\n",
       "      <td>00:10:11</td>\n",
       "      <td>00:00:04</td>\n",
       "      <td>b-@@-z^-1 *m-ii-z^-0 *khw-aa-m^-0 *r-vv-n^-2 *...</td>\n",
       "      <td>บ่,มี,ความ,รื่น,เริง,อี,หยัง,เลย,ข้าง,นอก</td>\n",
       "      <td>ไม่,มี,ความ,รื่น,เริง,อะ,ไร,เลย,ด้าน,นอก</td>\n",
       "    </tr>\n",
       "    <tr>\n",
       "      <th>8</th>\n",
       "      <td>9.0</td>\n",
       "      <td>มื้อ/นี้/สิ/เบิ่ง/พุ/ตอน/หก/ทุ่ม/จ่ะ</td>\n",
       "      <td>วัน/นี้/จะ/ดู/พุ/ตอน/หก/ทุ่ม/นะ/คะ</td>\n",
       "      <td>00:10:29</td>\n",
       "      <td>00:10:33</td>\n",
       "      <td>00:00:04</td>\n",
       "      <td>m-vv-z^-3 *n-ii-z^-3 *s-i-z^-1 *b-q-ng^-1 *ph-...</td>\n",
       "      <td>มื้อ,นี้,สิ,เบิ่ง,พุ,ตอน,หก,ทุ่ม,จ่ะ</td>\n",
       "      <td>วัน,นี้,จะ,ดู,พุ,ตอน,หก,ทุ่ม,นะ,คะ</td>\n",
       "    </tr>\n",
       "    <tr>\n",
       "      <th>9</th>\n",
       "      <td>10.0</td>\n",
       "      <td>ถ้า/ฝน/ตก/หิ/มะ/ตก/คึ/สิ/บ่/ได้/ออก/ไป</td>\n",
       "      <td>ถ้า/ฝน/ตก/หิ/มะ/ตก/คง/จะ/ไม่/ได้/ออก/ไป</td>\n",
       "      <td>00:10:40</td>\n",
       "      <td>00:10:43</td>\n",
       "      <td>00:00:03</td>\n",
       "      <td>th-aa-z^-2 *f-o-n^-4 *t-o-k^-1 *h-i-z^-1 *m-a-...</td>\n",
       "      <td>ถ้า,ฝน,ตก,หิ,มะ,ตก,คึ,สิ,บ่,ได้,ออก,ไป</td>\n",
       "      <td>ถ้า,ฝน,ตก,หิ,มะ,ตก,คง,จะ,ไม่,ได้,ออก,ไป</td>\n",
       "    </tr>\n",
       "    <tr>\n",
       "      <th>10</th>\n",
       "      <td>11.0</td>\n",
       "      <td>ปี/ที่/แล้ว/ออก/ไป/เบิ่ง/เขา/จุด/พุ/มัน/เป็น/ฝ...</td>\n",
       "      <td>ปี/ที่/แล้ว/ออก/ไป/ดู/เขา/จุด/พุ/มัน/เป็น/ฝน/ห...</td>\n",
       "      <td>00:10:52</td>\n",
       "      <td>00:10:56</td>\n",
       "      <td>00:00:04</td>\n",
       "      <td>p-ii-z^-0 *th-ii-z^-2 *l-xx-w^-3 *z-@@-k^-1 *p...</td>\n",
       "      <td>ปี,ที่,แล้ว,ออก,ไป,เบิ่ง,เขา,จุด,พุ,มัน,เป็น,ฝ...</td>\n",
       "      <td>ปี,ที่,แล้ว,ออก,ไป,ดู,เขา,จุด,พุ,มัน,เป็น,ฝน,ห...</td>\n",
       "    </tr>\n",
       "    <tr>\n",
       "      <th>11</th>\n",
       "      <td>12.0</td>\n",
       "      <td>เพิ่น/ก้ม/แบบ/คน/เมา/นะ/จ้ะ</td>\n",
       "      <td>เขา/ก้ม/แบบ/คน/เมา/อ่ะ/ค่ะ</td>\n",
       "      <td>00:11:09</td>\n",
       "      <td>00:11:12</td>\n",
       "      <td>00:00:03</td>\n",
       "      <td>ph-qq-n^-2 *k-o-m^-3 *b-xx-p^-1 *kh-o-n^-0 *m-...</td>\n",
       "      <td>เพิ่น,ก้ม,แบบ,คน,เมา,นะ,จ้ะ</td>\n",
       "      <td>เขา,ก้ม,แบบ,คน,เมา,อ่ะ,ค่ะ</td>\n",
       "    </tr>\n",
       "    <tr>\n",
       "      <th>12</th>\n",
       "      <td>13.0</td>\n",
       "      <td>ก้ม/ก้ม/ส่อง/พุ/เพิ่น/จุด/ละ/เพิ่น/กะ/ก้ม/ส่อง...</td>\n",
       "      <td>ก้ม/ก้ม/ส่อง/พุ/เขา/จุด/ละ/เขา/ก็/ก้ม/ส่อง/เขา...</td>\n",
       "      <td>00:11:14</td>\n",
       "      <td>00:11:18</td>\n",
       "      <td>00:00:04</td>\n",
       "      <td>k-o-m^-3 *k-o-m^-3 *s-@-ng^-1 *ph-u-z^-3 *ph-q...</td>\n",
       "      <td>ก้ม,ก้ม,ส่อง,พุ,เพิ่น,จุด,ละ,เพิ่น,กะ,ก้ม,ส่อง...</td>\n",
       "      <td>ก้ม,ก้ม,ส่อง,พุ,เขา,จุด,ละ,เขา,ก็,ก้ม,ส่อง,เขา...</td>\n",
       "    </tr>\n",
       "    <tr>\n",
       "      <th>13</th>\n",
       "      <td>14.0</td>\n",
       "      <td>เพิ่น/สิ/โซ/กล้าม/เพิ่น/หั่น/นะ/พี่น้อง</td>\n",
       "      <td>เขา/จะ/โชว์/กล้าม/เขา/นั่น/แหละ/ทุกคน</td>\n",
       "      <td>00:13:11</td>\n",
       "      <td>00:13:13</td>\n",
       "      <td>00:00:02</td>\n",
       "      <td>ph-qq-n^-2 *s-i-z^-1 *s-oo-z^-0 *kl-aa-m^-2 *p...</td>\n",
       "      <td>เพิ่น,สิ,โซ,กล้าม,เพิ่น,หั่น,นะ,พี่น้อง</td>\n",
       "      <td>เขา,จะ,โชว์,กล้าม,เขา,นั่น,แหละ,ทุกคน</td>\n",
       "    </tr>\n",
       "    <tr>\n",
       "      <th>14</th>\n",
       "      <td>15.0</td>\n",
       "      <td>โอ/เค/จ้า/สุผู้สุคน/มื้อ/นี้/จั่ง/ใด๋/กะ/ขอบ/ค...</td>\n",
       "      <td>โอ/เค/จ้า/ทุก ๆ  คน/วัน/นี้/ยัง/ไง/ก็/ขอบ/คุณ/...</td>\n",
       "      <td>00:15:23</td>\n",
       "      <td>00:15:26</td>\n",
       "      <td>00:00:03</td>\n",
       "      <td>z-oo-z^-0 *kh-ee-z^-0 *c-aa-z^-2\\n*s-u-z^-1 *p...</td>\n",
       "      <td>โอ,เค,จ้า,สุผู้สุคน,มื้อ,นี้,จั่ง,ใด๋,กะ,ขอบ,ค...</td>\n",
       "      <td>โอ,เค,จ้า,ทุก ๆ  คน,วัน,นี้,ยัง,ไง,ก็,ขอบ,คุณ,...</td>\n",
       "    </tr>\n",
       "    <tr>\n",
       "      <th>15</th>\n",
       "      <td>16.0</td>\n",
       "      <td>จ้า/พ้อ/กัน/ใหม่/ใน/คลิป/วิ/ดี/โอ/หน้า/สวัสดี/...</td>\n",
       "      <td>จ้า/เจอ/กัน/ใหม่/ใน/คลิป/วิ/ดี/โอ/หน้า/สวัสดี/...</td>\n",
       "      <td>00:15:30</td>\n",
       "      <td>00:15:33</td>\n",
       "      <td>00:00:03</td>\n",
       "      <td>c-aa-z^-2 *ph-@@-z^-3 *k-a-n^-0 *m-a-j^-1 *n-a...</td>\n",
       "      <td>จ้า,พ้อ,กัน,ใหม่,ใน,คลิป,วิ,ดี,โอ,หน้า,สวัสดี,...</td>\n",
       "      <td>จ้า,เจอ,กัน,ใหม่,ใน,คลิป,วิ,ดี,โอ,หน้า,สวัสดี,...</td>\n",
       "    </tr>\n",
       "  </tbody>\n",
       "</table>\n",
       "</div>"
      ],
      "text/plain": [
       "      No                                          ภาษาอีสาน  \\\n",
       "0    1.0                          สวัสดี/สุผู้สุคน/เด้อ/จ้า   \n",
       "1    2.0       กิน/ข้าว/ก่อน/เด้อ/จ้า/ ไผ/สิ/ถ่า/เค้า/ดาวน์   \n",
       "2    3.0  เค้า/ดาว/กะ/ขอ/ให้/เค้า/ดาว/อย่าง/มี/ความ/สุข/...   \n",
       "3    4.0  นี่/จ้า/อา/หาร/เย็น/เป็น/ลา/ซาน/ย่า/กับ/ผัก/สด...   \n",
       "4    5.0                     ขอ/ให้/เชิญ/แซ่บ/เด้อ/พี่/น้อง   \n",
       "5    6.0         แมท/ธิว/บอก/ว่า/อี/แม่/อย่า/พึ่ง/หลับ/เด้อ   \n",
       "6    7.0                                       เงียบ/แฮงจัด   \n",
       "7    8.0          บ่/มี/ความ/รื่น/เริง/อี/หยัง/เลย/ข้าง/นอก   \n",
       "8    9.0               มื้อ/นี้/สิ/เบิ่ง/พุ/ตอน/หก/ทุ่ม/จ่ะ   \n",
       "9   10.0             ถ้า/ฝน/ตก/หิ/มะ/ตก/คึ/สิ/บ่/ได้/ออก/ไป   \n",
       "10  11.0  ปี/ที่/แล้ว/ออก/ไป/เบิ่ง/เขา/จุด/พุ/มัน/เป็น/ฝ...   \n",
       "11  12.0                        เพิ่น/ก้ม/แบบ/คน/เมา/นะ/จ้ะ   \n",
       "12  13.0  ก้ม/ก้ม/ส่อง/พุ/เพิ่น/จุด/ละ/เพิ่น/กะ/ก้ม/ส่อง...   \n",
       "13  14.0            เพิ่น/สิ/โซ/กล้าม/เพิ่น/หั่น/นะ/พี่น้อง   \n",
       "14  15.0  โอ/เค/จ้า/สุผู้สุคน/มื้อ/นี้/จั่ง/ใด๋/กะ/ขอบ/ค...   \n",
       "15  16.0  จ้า/พ้อ/กัน/ใหม่/ใน/คลิป/วิ/ดี/โอ/หน้า/สวัสดี/...   \n",
       "\n",
       "                                              ภาษาไทย     เริ่ม        จบ  \\\n",
       "0                               สวัสดี/ทุก ๆ คน/นะ/คะ  00:00:16  00:00:18   \n",
       "1           กิน/ข้าว/ก่อน/นะ/จ้ะ/ใคร/จะ/รอ/เค้า/ดาวน์  00:02:14  00:02:18   \n",
       "2   เค้า/ดาวน์/ก็/ขอ/ให้/เค้า/ดาน์/อย่าง/มี/ความ/ส...  00:02:21  00:02:25   \n",
       "3   นี่/จ้า/อา/หาร/เย็น/เป็น/ลา/ซาน/ย่า/กับ/ผัก/สด...  00:02:33  00:02:37   \n",
       "4                         ขอ/ให้/เชิญ/อร่อย/นะ/ทุก/คน  00:02:38  00:02:41   \n",
       "5           แมท/ธิว/บอก/ว่า/คุณ/แม่/อย่า/พึ่ง/หลับ/นะ  00:03:08  00:03:08   \n",
       "6                                         เงียบ/มาก ๆ  00:09:51  00:09:53   \n",
       "7            ไม่/มี/ความ/รื่น/เริง/อะ/ไร/เลย/ด้าน/นอก  00:10:07  00:10:11   \n",
       "8                  วัน/นี้/จะ/ดู/พุ/ตอน/หก/ทุ่ม/นะ/คะ  00:10:29  00:10:33   \n",
       "9             ถ้า/ฝน/ตก/หิ/มะ/ตก/คง/จะ/ไม่/ได้/ออก/ไป  00:10:40  00:10:43   \n",
       "10  ปี/ที่/แล้ว/ออก/ไป/ดู/เขา/จุด/พุ/มัน/เป็น/ฝน/ห...  00:10:52  00:10:56   \n",
       "11                         เขา/ก้ม/แบบ/คน/เมา/อ่ะ/ค่ะ  00:11:09  00:11:12   \n",
       "12  ก้ม/ก้ม/ส่อง/พุ/เขา/จุด/ละ/เขา/ก็/ก้ม/ส่อง/เขา...  00:11:14  00:11:18   \n",
       "13              เขา/จะ/โชว์/กล้าม/เขา/นั่น/แหละ/ทุกคน  00:13:11  00:13:13   \n",
       "14  โอ/เค/จ้า/ทุก ๆ  คน/วัน/นี้/ยัง/ไง/ก็/ขอบ/คุณ/...  00:15:23  00:15:26   \n",
       "15  จ้า/เจอ/กัน/ใหม่/ใน/คลิป/วิ/ดี/โอ/หน้า/สวัสดี/...  00:15:30  00:15:33   \n",
       "\n",
       "    จบ-เริ่ม                                                G2P  \\\n",
       "0   00:00:02  s-a-z^-1 w-a-t^-1 d-ii-z^-0 *s-u-z^-1 *ph-uu-z...   \n",
       "1   00:00:04  k-i-n^-0 *kh-aa-w^-2 *k-@@-n^-1 *d-qq-z^-2 *c-...   \n",
       "2   00:00:04  kh-a-w^-3 *d-aa-w^-0 *k-a-z^-1 *kh-@@-z^-4 *h-...   \n",
       "3   00:00:04  n-ii-z^-2 *c-aa-z^-2 *z-aa-z^-0 *h-aa-n^-4 *j-...   \n",
       "4   00:00:03  kh-@@-z^-4 *h-a-j^-2 *ch-qq-n^-0 *s-xx-p^-2 *d...   \n",
       "5   00:00:00  m-xx-t^-1 *th-i-w^-0 *b-@@-k^-1 *w-aa-z^-2 *z-...   \n",
       "6   00:00:02                  ng-iia-p^-2 *h-xx-ng^-0 *c-a-t^-1   \n",
       "7   00:00:04  b-@@-z^-1 *m-ii-z^-0 *khw-aa-m^-0 *r-vv-n^-2 *...   \n",
       "8   00:00:04  m-vv-z^-3 *n-ii-z^-3 *s-i-z^-1 *b-q-ng^-1 *ph-...   \n",
       "9   00:00:03  th-aa-z^-2 *f-o-n^-4 *t-o-k^-1 *h-i-z^-1 *m-a-...   \n",
       "10  00:00:04  p-ii-z^-0 *th-ii-z^-2 *l-xx-w^-3 *z-@@-k^-1 *p...   \n",
       "11  00:00:03  ph-qq-n^-2 *k-o-m^-3 *b-xx-p^-1 *kh-o-n^-0 *m-...   \n",
       "12  00:00:04  k-o-m^-3 *k-o-m^-3 *s-@-ng^-1 *ph-u-z^-3 *ph-q...   \n",
       "13  00:00:02  ph-qq-n^-2 *s-i-z^-1 *s-oo-z^-0 *kl-aa-m^-2 *p...   \n",
       "14  00:00:03  z-oo-z^-0 *kh-ee-z^-0 *c-aa-z^-2\\n*s-u-z^-1 *p...   \n",
       "15  00:00:03  c-aa-z^-2 *ph-@@-z^-3 *k-a-n^-0 *m-a-j^-1 *n-a...   \n",
       "\n",
       "                                        ภาษาอีสานใหม่  \\\n",
       "0                           สวัสดี,สุผู้สุคน,เด้อ,จ้า   \n",
       "1        กิน,ข้าว,ก่อน,เด้อ,จ้า, ไผ,สิ,ถ่า,เค้า,ดาวน์   \n",
       "2   เค้า,ดาว,กะ,ขอ,ให้,เค้า,ดาว,อย่าง,มี,ความ,สุข,...   \n",
       "3   นี่,จ้า,อา,หาร,เย็น,เป็น,ลา,ซาน,ย่า,กับ,ผัก,สด...   \n",
       "4                      ขอ,ให้,เชิญ,แซ่บ,เด้อ,พี่,น้อง   \n",
       "5          แมท,ธิว,บอก,ว่า,อี,แม่,อย่า,พึ่ง,หลับ,เด้อ   \n",
       "6                                        เงียบ,แฮงจัด   \n",
       "7           บ่,มี,ความ,รื่น,เริง,อี,หยัง,เลย,ข้าง,นอก   \n",
       "8                มื้อ,นี้,สิ,เบิ่ง,พุ,ตอน,หก,ทุ่ม,จ่ะ   \n",
       "9              ถ้า,ฝน,ตก,หิ,มะ,ตก,คึ,สิ,บ่,ได้,ออก,ไป   \n",
       "10  ปี,ที่,แล้ว,ออก,ไป,เบิ่ง,เขา,จุด,พุ,มัน,เป็น,ฝ...   \n",
       "11                        เพิ่น,ก้ม,แบบ,คน,เมา,นะ,จ้ะ   \n",
       "12  ก้ม,ก้ม,ส่อง,พุ,เพิ่น,จุด,ละ,เพิ่น,กะ,ก้ม,ส่อง...   \n",
       "13            เพิ่น,สิ,โซ,กล้าม,เพิ่น,หั่น,นะ,พี่น้อง   \n",
       "14  โอ,เค,จ้า,สุผู้สุคน,มื้อ,นี้,จั่ง,ใด๋,กะ,ขอบ,ค...   \n",
       "15  จ้า,พ้อ,กัน,ใหม่,ใน,คลิป,วิ,ดี,โอ,หน้า,สวัสดี,...   \n",
       "\n",
       "                                          ภาษาไทยใหม่  \n",
       "0                               สวัสดี,ทุก ๆ คน,นะ,คะ  \n",
       "1           กิน,ข้าว,ก่อน,นะ,จ้ะ,ใคร,จะ,รอ,เค้า,ดาวน์  \n",
       "2   เค้า,ดาวน์,ก็,ขอ,ให้,เค้า,ดาน์,อย่าง,มี,ความ,ส...  \n",
       "3   นี่,จ้า,อา,หาร,เย็น,เป็น,ลา,ซาน,ย่า,กับ,ผัก,สด...  \n",
       "4                         ขอ,ให้,เชิญ,อร่อย,นะ,ทุก,คน  \n",
       "5           แมท,ธิว,บอก,ว่า,คุณ,แม่,อย่า,พึ่ง,หลับ,นะ  \n",
       "6                                         เงียบ,มาก ๆ  \n",
       "7            ไม่,มี,ความ,รื่น,เริง,อะ,ไร,เลย,ด้าน,นอก  \n",
       "8                  วัน,นี้,จะ,ดู,พุ,ตอน,หก,ทุ่ม,นะ,คะ  \n",
       "9             ถ้า,ฝน,ตก,หิ,มะ,ตก,คง,จะ,ไม่,ได้,ออก,ไป  \n",
       "10  ปี,ที่,แล้ว,ออก,ไป,ดู,เขา,จุด,พุ,มัน,เป็น,ฝน,ห...  \n",
       "11                         เขา,ก้ม,แบบ,คน,เมา,อ่ะ,ค่ะ  \n",
       "12  ก้ม,ก้ม,ส่อง,พุ,เขา,จุด,ละ,เขา,ก็,ก้ม,ส่อง,เขา...  \n",
       "13              เขา,จะ,โชว์,กล้าม,เขา,นั่น,แหละ,ทุกคน  \n",
       "14  โอ,เค,จ้า,ทุก ๆ  คน,วัน,นี้,ยัง,ไง,ก็,ขอบ,คุณ,...  \n",
       "15  จ้า,เจอ,กัน,ใหม่,ใน,คลิป,วิ,ดี,โอ,หน้า,สวัสดี,...  "
      ]
     },
     "execution_count": 175,
     "metadata": {},
     "output_type": "execute_result"
    }
   ],
   "source": [
    "df"
   ]
  },
  {
   "cell_type": "code",
   "execution_count": null,
   "metadata": {},
   "outputs": [],
   "source": []
  }
 ],
 "metadata": {
  "kernelspec": {
   "display_name": "Python 3",
   "language": "python",
   "name": "python3"
  },
  "language_info": {
   "codemirror_mode": {
    "name": "ipython",
    "version": 3
   },
   "file_extension": ".py",
   "mimetype": "text/x-python",
   "name": "python",
   "nbconvert_exporter": "python",
   "pygments_lexer": "ipython3",
   "version": "3.7.3"
  }
 },
 "nbformat": 4,
 "nbformat_minor": 2
}
