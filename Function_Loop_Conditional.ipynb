{
 "cells": [
  {
   "cell_type": "markdown",
   "metadata": {},
   "source": [
    "# Function\n",
    "### print ชื่อ XXX นามสกุล YYY รหัส ZZZ \n",
    "### print เกรด วิชา Stat 1 >> AAA"
   ]
  },
  {
   "cell_type": "code",
   "execution_count": 8,
   "metadata": {},
   "outputs": [
    {
     "name": "stdout",
     "output_type": "stream",
     "text": [
      "ชื่อ รสสุคณธ์ นามสกุล เอกไชย รหัส 60302131-4\n"
     ]
    }
   ],
   "source": [
    "a = f'ชื่อ รสสุคณธ์ เอกไชย รหัส 60302131-4)"
   ]
  },
  {
   "cell_type": "code",
   "execution_count": 10,
   "metadata": {},
   "outputs": [
    {
     "name": "stdout",
     "output_type": "stream",
     "text": [
      "ชื่อ รสสุคณธ์ นามสกุล เอกไชย รหัส 60302131-4\n"
     ]
    }
   ],
   "source": [
    "name = 'รสสุคณธ์'\n",
    "surname = 'เอกไชย'\n",
    "ID = '60302131-4'\n",
    "\n",
    "b = f'ชื่อ {name} นามสกุล {surname} รหัส {ID}'\n",
    "print(b)"
   ]
  },
  {
   "cell_type": "markdown",
   "metadata": {},
   "source": [
    "## function template\n",
    "~~~python\n",
    "def function_name(input):\n",
    "    do_something\n",
    "    return output\n",
    "~~~"
   ]
  },
  {
   "cell_type": "markdown",
   "metadata": {},
   "source": [
    "### normal function"
   ]
  },
  {
   "cell_type": "code",
   "execution_count": 17,
   "metadata": {},
   "outputs": [],
   "source": [
    "def print_line1(name1,surname1,ID1):\n",
    "    st = f'ชื่อ {name1} นามสกุล {surname1} รหัส {ID1}'\n",
    "    return st"
   ]
  },
  {
   "cell_type": "code",
   "execution_count": 18,
   "metadata": {},
   "outputs": [
    {
     "name": "stdout",
     "output_type": "stream",
     "text": [
      "ชื่อ กาญจนา นามสกุล ประสาคุณ รหัส 603021855-2\n"
     ]
    }
   ],
   "source": [
    "print(print_line1('กาญจนา','ประสาคุณ','603021855-2'))"
   ]
  },
  {
   "cell_type": "code",
   "execution_count": 22,
   "metadata": {},
   "outputs": [],
   "source": [
    "def print_2lines(name1,surname1,ID1,grade):\n",
    "    st = f'ชื่อ {name1} นามสกุล {surname1} รหัส {ID1}'\n",
    "    print(st)\n",
    "    st2 = f'เกรดวิชา Stat1 >>> {grade}'\n",
    "    print(st2)"
   ]
  },
  {
   "cell_type": "code",
   "execution_count": 23,
   "metadata": {},
   "outputs": [
    {
     "name": "stdout",
     "output_type": "stream",
     "text": [
      "ชื่อ กาญจนา นามสกุล ประสาคุณ รหัส 603021855-2\n",
      "เกรดวิชา Stat1 >>> A\n"
     ]
    }
   ],
   "source": [
    "print_2lines('กาญจนา','ประสาคุณ','603021855-2','A')"
   ]
  },
  {
   "cell_type": "code",
   "execution_count": 25,
   "metadata": {},
   "outputs": [
    {
     "name": "stdout",
     "output_type": "stream",
     "text": [
      "ชื่อ รสสุคณธ์ นามสกุล เอกไชย รหัส 603021315-4\n",
      "เกรดวิชา Stat1 >>> A\n",
      "ชื่อ สุชาวดี นามสกุล อัจฉริยวงศ์เมธี รหัส 603021888-7\n",
      "เกรดวิชา Stat1 >>> A\n",
      "ชื่อ ปนิดา นามสกุล ท่าประโคน รหัส 60302475-7\n",
      "เกรดวิชา Stat1 >>> A\n",
      "ชื่อ นวลผกา นามสกุล พิมพ์พัฒน์ รหัส 603021109-7\n",
      "เกรดวิชา Stat1 >>> A\n"
     ]
    }
   ],
   "source": [
    "print_2lines('รสสุคณธ์','เอกไชย','603021315-4','A')\n",
    "print_2lines('สุชาวดี','อัจฉริยวงศ์เมธี','603021888-7','A')\n",
    "print_2lines('ปนิดา','ท่าประโคน','60302475-7','A')\n",
    "print_2lines('นวลผกา','พิมพ์พัฒน์','603021109-7','A')"
   ]
  },
  {
   "cell_type": "markdown",
   "metadata": {},
   "source": [
    "### ลักษณะของฟังชั่น หลัง return จะไม่ทำงาน"
   ]
  },
  {
   "cell_type": "code",
   "execution_count": 27,
   "metadata": {},
   "outputs": [],
   "source": [
    "def print_line1(name1,surname1,ID1):\n",
    "    st = f'ชื่อ {name1} นามสกุล {surname1} รหัส {ID1}'\n",
    "    return st"
   ]
  },
  {
   "cell_type": "code",
   "execution_count": 28,
   "metadata": {},
   "outputs": [
    {
     "name": "stdout",
     "output_type": "stream",
     "text": [
      "ชื่อ กาญจนา นามสกุล ประสาคุณ รหัส 603021855-2\n",
      "เกรดวิชา Stat1 >>> A\n"
     ]
    }
   ],
   "source": [
    "print_2lines_er('กาญจนา','ประสาคุณ','603021855-2','A')"
   ]
  },
  {
   "cell_type": "markdown",
   "metadata": {},
   "source": [
    "## Function without input "
   ]
  },
  {
   "cell_type": "code",
   "execution_count": 30,
   "metadata": {},
   "outputs": [],
   "source": [
    "def two_x_three():\n",
    "    x= 2*3\n",
    "    return x"
   ]
  },
  {
   "cell_type": "code",
   "execution_count": 31,
   "metadata": {},
   "outputs": [
    {
     "data": {
      "text/plain": [
       "6"
      ]
     },
     "execution_count": 31,
     "metadata": {},
     "output_type": "execute_result"
    }
   ],
   "source": [
    "two_x_three()"
   ]
  },
  {
   "cell_type": "markdown",
   "metadata": {},
   "source": [
    "## function with default argument"
   ]
  },
  {
   "cell_type": "code",
   "execution_count": 35,
   "metadata": {},
   "outputs": [],
   "source": [
    "def print_2lines_default(name1,surname1,ID1,grade='F'):\n",
    "    st = f'ชื่อ {name1} นามสกุล {surname1} รหัส {ID1}'\n",
    "    print(st)\n",
    "    st2 = f'เกรดวิชา Stat1 >>> {grade}'\n",
    "    print(st2)"
   ]
  },
  {
   "cell_type": "code",
   "execution_count": 36,
   "metadata": {},
   "outputs": [
    {
     "name": "stdout",
     "output_type": "stream",
     "text": [
      "ชื่อ กาญจนา นามสกุล ประสาคุณ รหัส 603021855-2\n",
      "เกรดวิชา Stat1 >>> F\n"
     ]
    }
   ],
   "source": [
    "print_2lines_default('กาญจนา','ประสาคุณ','603021855-2')"
   ]
  },
  {
   "cell_type": "code",
   "execution_count": 37,
   "metadata": {},
   "outputs": [
    {
     "name": "stdout",
     "output_type": "stream",
     "text": [
      "ชื่อ กาญจนา นามสกุล ประสาคุณ รหัส 603021855-2\n",
      "เกรดวิชา Stat1 >>> A+\n"
     ]
    }
   ],
   "source": [
    "print_2lines_default('กาญจนา','ประสาคุณ','603021855-2','A+')"
   ]
  },
  {
   "cell_type": "code",
   "execution_count": 40,
   "metadata": {},
   "outputs": [
    {
     "name": "stdout",
     "output_type": "stream",
     "text": [
      "ชื่อ ประสาคุณ นามสกุล กาญจนา รหัส 603021855-2\n",
      "เกรดวิชา Stat1 >>> F\n"
     ]
    }
   ],
   "source": [
    "print_2lines_default(surname1 = 'กาญจนา',name1 = 'ประสาคุณ',ID1 = '603021855-2')"
   ]
  },
  {
   "cell_type": "markdown",
   "metadata": {},
   "source": [
    "## Loop (วนซ้ำ)"
   ]
  },
  {
   "cell_type": "markdown",
   "metadata": {},
   "source": [
    "```python\n",
    "for each_member in listA:\n",
    "    do something\n",
    "```"
   ]
  },
  {
   "cell_type": "code",
   "execution_count": 43,
   "metadata": {},
   "outputs": [
    {
     "name": "stdout",
     "output_type": "stream",
     "text": [
      "1\n",
      "2\n",
      "3\n"
     ]
    }
   ],
   "source": [
    "for i in [1,2,3]:\n",
    "    print(i)"
   ]
  },
  {
   "cell_type": "code",
   "execution_count": 45,
   "metadata": {},
   "outputs": [
    {
     "name": "stdout",
     "output_type": "stream",
     "text": [
      "R -> /\n",
      " \n",
      "o -> /\n",
      " \n",
      "s -> /\n",
      " \n",
      "s -> /\n",
      " \n",
      "u -> /\n",
      " \n",
      "k -> /\n",
      " \n",
      "o -> /\n",
      " \n",
      "n -> /\n",
      " \n"
     ]
    }
   ],
   "source": [
    "for i in 'Rossukon':\n",
    "    print (f'{i} -> /')\n",
    "    print(' ')"
   ]
  },
  {
   "cell_type": "markdown",
   "metadata": {},
   "source": [
    "## 1.สร้าง list ชื่อเพื่อน ที่อยู่ใน แถวยาวเดียวกัน \n",
    "## 1.5.วนลูป print ประโยคว่า XXXเรา YYYความรู้สึก ZZZเพื่อน ทุกคนในแถวยาว\n",
    "## 2.วนลูป เรียก function โดยเปลี่ยนชื่อเื่อนไปเรื่อยๆ"
   ]
  },
  {
   "cell_type": "code",
   "execution_count": 65,
   "metadata": {},
   "outputs": [],
   "source": [
    "def print_line(name,feeling,friendname):\n",
    "    st = f'ชื่อ {name} รู้สึกว่า {feeling} ชื่อเพื่อน {friendname}'\n",
    "    return st"
   ]
  },
  {
   "cell_type": "code",
   "execution_count": 68,
   "metadata": {},
   "outputs": [
    {
     "name": "stdout",
     "output_type": "stream",
     "text": [
      "ชื่อ ฟางเอง รู้สึกว่า น่ารักอ่า ชื่อเพื่อน เจ้าปิงๆ\n",
      "ชื่อ ฟางเอง รู้สึกว่า น่ารักอ่า ชื่อเพื่อน เจ้ากรีนๆ\n",
      "ชื่อ ฟางเอง รู้สึกว่า น่ารักอ่า ชื่อเพื่อน เจ้าเล็กๆ\n",
      "ชื่อ ฟางเอง รู้สึกว่า น่ารักอ่า ชื่อเพื่อน เจ้าฝ้ายๆ\n",
      "ชื่อ ฟางเอง รู้สึกว่า น่ารักอ่า ชื่อเพื่อน เจ้าบิวตี้ๆ\n",
      "ชื่อ ฟางเอง รู้สึกว่า น่ารักอ่า ชื่อเพื่อน เจ้าแป้งๆ\n"
     ]
    }
   ],
   "source": [
    "print(print_line('ฟางเอง','น่ารักอ่า','เจ้าปิงๆ'))\n",
    "print(print_line('ฟางเอง','น่ารักอ่า','เจ้ากรีนๆ'))\n",
    "print(print_line('ฟางเอง','น่ารักอ่า','เจ้าเล็กๆ'))\n",
    "print(print_line('ฟางเอง','น่ารักอ่า','เจ้าฝ้ายๆ'))\n",
    "print(print_line('ฟางเอง','น่ารักอ่า','เจ้าบิวตี้ๆ'))\n",
    "print(print_line('ฟางเอง','น่ารักอ่า','เจ้าแป้งๆ'))"
   ]
  },
  {
   "cell_type": "code",
   "execution_count": 74,
   "metadata": {},
   "outputs": [
    {
     "name": "stdout",
     "output_type": "stream",
     "text": [
      "ฟาง รู้สึกว่า น่ารักอ่ะ เจ้าปิงๆ\n",
      " \n",
      "ฟาง รู้สึกว่า น่ารักอ่ะ เจ้ากรีนๆ\n",
      " \n",
      "ฟาง รู้สึกว่า น่ารักอ่ะ เจ้าเล็กๆ\n",
      " \n",
      "ฟาง รู้สึกว่า น่ารักอ่ะ เจ้าฝ้ายๆ\n",
      " \n",
      "ฟาง รู้สึกว่า น่ารักอ่ะ เจ้าบิวตี้ๆ\n",
      " \n",
      "ฟาง รู้สึกว่า น่ารักอ่ะ เจ้าแป้งๆ\n",
      " \n"
     ]
    }
   ],
   "source": [
    "for i in ['เจ้าปิงๆ','เจ้ากรีนๆ','เจ้าเล็กๆ','เจ้าฝ้ายๆ','เจ้าบิวตี้ๆ','เจ้าแป้งๆ']:\n",
    "    print (f'ฟาง รู้สึกว่า น่ารักอ่ะ {i}')\n",
    "    print(' ')"
   ]
  },
  {
   "cell_type": "markdown",
   "metadata": {},
   "source": [
    "### เฉลยย"
   ]
  },
  {
   "cell_type": "code",
   "execution_count": 120,
   "metadata": {},
   "outputs": [],
   "source": [
    "friend_list = ['เจ้าปิงๆ','เจ้ากรีนๆ','เจ้าเล็กๆ','เจ้าฝ้ายๆ','เจ้าบิวตี้ๆ','เจ้าแป้งๆ']"
   ]
  },
  {
   "cell_type": "code",
   "execution_count": 121,
   "metadata": {},
   "outputs": [],
   "source": [
    "def print_feeling(I,feeling,friend):\n",
    "    print(f'{I} {feeling} {friend}')"
   ]
  },
  {
   "cell_type": "code",
   "execution_count": 122,
   "metadata": {},
   "outputs": [
    {
     "name": "stdout",
     "output_type": "stream",
     "text": [
      "น่องฟาง รัก เจ้าปิงๆ\n"
     ]
    }
   ],
   "source": [
    "print_feeling('น่องฟาง','รัก','เจ้าปิงๆ')"
   ]
  },
  {
   "cell_type": "code",
   "execution_count": 123,
   "metadata": {},
   "outputs": [
    {
     "name": "stdout",
     "output_type": "stream",
     "text": [
      "น่องฟาง รัก เจ้าปิงๆ\n",
      "น่องฟาง รัก เจ้ากรีนๆ\n",
      "น่องฟาง รัก เจ้าเล็กๆ\n",
      "น่องฟาง รัก เจ้าฝ้ายๆ\n",
      "น่องฟาง รัก เจ้าบิวตี้ๆ\n",
      "น่องฟาง รัก เจ้าแป้งๆ\n"
     ]
    }
   ],
   "source": [
    "for f in friend_list:\n",
    "    print_feeling('น่องฟาง','รัก',f)"
   ]
  },
  {
   "cell_type": "markdown",
   "metadata": {},
   "source": [
    "## loop in function"
   ]
  },
  {
   "cell_type": "code",
   "execution_count": 124,
   "metadata": {},
   "outputs": [],
   "source": [
    "def print_feelings(I,feeling,friends):\n",
    "    for friend in friends:\n",
    "        print(f'{i} {feeling} {friend}')"
   ]
  },
  {
   "cell_type": "code",
   "execution_count": 125,
   "metadata": {},
   "outputs": [
    {
     "name": "stdout",
     "output_type": "stream",
     "text": [
      "ทรงกลด รัก เจ้าปิงๆ\n",
      "ทรงกลด รัก เจ้ากรีนๆ\n",
      "ทรงกลด รัก เจ้าเล็กๆ\n",
      "ทรงกลด รัก เจ้าฝ้ายๆ\n",
      "ทรงกลด รัก เจ้าบิวตี้ๆ\n",
      "ทรงกลด รัก เจ้าแป้งๆ\n"
     ]
    }
   ],
   "source": [
    "print_feelings('น่องฟาง','รัก',friend_list)"
   ]
  },
  {
   "cell_type": "markdown",
   "metadata": {},
   "source": [
    "## loop in loop"
   ]
  },
  {
   "cell_type": "code",
   "execution_count": 126,
   "metadata": {
    "scrolled": true
   },
   "outputs": [
    {
     "name": "stdout",
     "output_type": "stream",
     "text": [
      "เจ้าปิงๆ รัก เจ้าปิงๆ\n",
      "เจ้าปิงๆ รัก เจ้ากรีนๆ\n",
      "เจ้าปิงๆ รัก เจ้าเล็กๆ\n",
      "เจ้าปิงๆ รัก เจ้าฝ้ายๆ\n",
      "เจ้าปิงๆ รัก เจ้าบิวตี้ๆ\n",
      "เจ้าปิงๆ รัก เจ้าแป้งๆ\n",
      "เจ้ากรีนๆ รัก เจ้าปิงๆ\n",
      "เจ้ากรีนๆ รัก เจ้ากรีนๆ\n",
      "เจ้ากรีนๆ รัก เจ้าเล็กๆ\n",
      "เจ้ากรีนๆ รัก เจ้าฝ้ายๆ\n",
      "เจ้ากรีนๆ รัก เจ้าบิวตี้ๆ\n",
      "เจ้ากรีนๆ รัก เจ้าแป้งๆ\n",
      "เจ้าเล็กๆ รัก เจ้าปิงๆ\n",
      "เจ้าเล็กๆ รัก เจ้ากรีนๆ\n",
      "เจ้าเล็กๆ รัก เจ้าเล็กๆ\n",
      "เจ้าเล็กๆ รัก เจ้าฝ้ายๆ\n",
      "เจ้าเล็กๆ รัก เจ้าบิวตี้ๆ\n",
      "เจ้าเล็กๆ รัก เจ้าแป้งๆ\n",
      "เจ้าฝ้ายๆ รัก เจ้าปิงๆ\n",
      "เจ้าฝ้ายๆ รัก เจ้ากรีนๆ\n",
      "เจ้าฝ้ายๆ รัก เจ้าเล็กๆ\n",
      "เจ้าฝ้ายๆ รัก เจ้าฝ้ายๆ\n",
      "เจ้าฝ้ายๆ รัก เจ้าบิวตี้ๆ\n",
      "เจ้าฝ้ายๆ รัก เจ้าแป้งๆ\n",
      "เจ้าบิวตี้ๆ รัก เจ้าปิงๆ\n",
      "เจ้าบิวตี้ๆ รัก เจ้ากรีนๆ\n",
      "เจ้าบิวตี้ๆ รัก เจ้าเล็กๆ\n",
      "เจ้าบิวตี้ๆ รัก เจ้าฝ้ายๆ\n",
      "เจ้าบิวตี้ๆ รัก เจ้าบิวตี้ๆ\n",
      "เจ้าบิวตี้ๆ รัก เจ้าแป้งๆ\n",
      "เจ้าแป้งๆ รัก เจ้าปิงๆ\n",
      "เจ้าแป้งๆ รัก เจ้ากรีนๆ\n",
      "เจ้าแป้งๆ รัก เจ้าเล็กๆ\n",
      "เจ้าแป้งๆ รัก เจ้าฝ้ายๆ\n",
      "เจ้าแป้งๆ รัก เจ้าบิวตี้ๆ\n",
      "เจ้าแป้งๆ รัก เจ้าแป้งๆ\n"
     ]
    }
   ],
   "source": [
    "for name1 in friend_list:\n",
    "    for name2 in friend_list:\n",
    "        print_feeling(name1,'รัก',name2)"
   ]
  },
  {
   "cell_type": "markdown",
   "metadata": {},
   "source": [
    "## looping in dict"
   ]
  },
  {
   "cell_type": "code",
   "execution_count": 113,
   "metadata": {},
   "outputs": [
    {
     "data": {
      "text/plain": [
       "{'พันทิพา': 'B', 'ศุภนิตา': 'C', 'ปนัดดา': 'A', 'ทรงกลด': 'F'}"
      ]
     },
     "execution_count": 113,
     "metadata": {},
     "output_type": "execute_result"
    }
   ],
   "source": [
    "name_grade = {'พันทิพา':'B','ศุภนิตา':'C','ปนัดดา':'A','ทรงกลด':'F'}\n",
    "name_grade"
   ]
  },
  {
   "cell_type": "code",
   "execution_count": 114,
   "metadata": {},
   "outputs": [
    {
     "data": {
      "text/plain": [
       "'A'"
      ]
     },
     "execution_count": 114,
     "metadata": {},
     "output_type": "execute_result"
    }
   ],
   "source": [
    "name_grade['ปนัดดา']"
   ]
  },
  {
   "cell_type": "code",
   "execution_count": 117,
   "metadata": {},
   "outputs": [
    {
     "data": {
      "text/plain": [
       "dict_keys(['พันทิพา', 'ศุภนิตา', 'ปนัดดา', 'ทรงกลด'])"
      ]
     },
     "execution_count": 117,
     "metadata": {},
     "output_type": "execute_result"
    }
   ],
   "source": [
    "name_grade.keys()"
   ]
  },
  {
   "cell_type": "code",
   "execution_count": 118,
   "metadata": {},
   "outputs": [
    {
     "name": "stdout",
     "output_type": "stream",
     "text": [
      "พันทิพา ได้เกรด B\n",
      "ศุภนิตา ได้เกรด C\n",
      "ปนัดดา ได้เกรด A\n",
      "ทรงกลด ได้เกรด F\n"
     ]
    }
   ],
   "source": [
    "for i in name_grade.keys():\n",
    "    print(f'{i} ได้เกรด {name_grade[i]}')"
   ]
  },
  {
   "cell_type": "markdown",
   "metadata": {},
   "source": [
    "# conditional เงื่อนไข\n",
    "#### !=  คือ ตัวข้างหน้าเครื่องหมายเท่ากับตัวข้างหลังหรือไม่ ถ้าเท่าตอบ  F ถ้าไม่เท่าตอบ T\n",
    "#### >= คือ ตัวข้างหน้ามากกว่าหรือเท่ากับตัวข้างหลังหรือไม่ ถ้ามากกว่าหรือเท่าตอบ  T ถ้าไม่ตอบ F\n",
    "#### <= คือ ตัวข้างน้อยกว่ากว่าหรือเท่ากับตัวข้างหลังหรือไม่ ถ้าน้อยกว่าหรือเท่าตอบ  T ถ้าไม่ตอบ F\n",
    "#### < คือ ตัวข้างหน้าน้อยกว่าตัวข้างหลังหรือไม่  ถ้าน้อยกว่าตอบ  T ถ้าไม่ตอบ F\n",
    "#### > คือ ตัวข้างหน้ามากกว่าตัวข้างหลังหรือไม่  ถ้ามากกว่าตอบ  T ถ้าไม่ตอบ F"
   ]
  },
  {
   "cell_type": "markdown",
   "metadata": {},
   "source": [
    "```python\n",
    "if conditional1:\n",
    "    do someting\n",
    "elif conditional2:\n",
    "    do another thing\n",
    "else:\n",
    "    do ...\n",
    "```    "
   ]
  },
  {
   "cell_type": "code",
   "execution_count": 129,
   "metadata": {},
   "outputs": [
    {
     "name": "stdout",
     "output_type": "stream",
     "text": [
      "เจ้าปิงๆ รัก เจ้าปิงๆ\n",
      "เจ้าปิงๆ รัก เจ้ากรีนๆ\n",
      "เจ้าปิงๆ รัก เจ้าเล็กๆ\n",
      "เจ้าปิงๆ รัก เจ้าฝ้ายๆ\n",
      "เจ้าปิงๆ รัก เจ้าบิวตี้ๆ\n",
      "เจ้าปิงๆ รัก เจ้าแป้งๆ\n",
      "เจ้ากรีนๆ รัก เจ้าปิงๆ\n",
      "เจ้ากรีนๆ รัก เจ้ากรีนๆ\n",
      "เจ้ากรีนๆ รัก เจ้าเล็กๆ\n",
      "เจ้ากรีนๆ รัก เจ้าฝ้ายๆ\n",
      "เจ้ากรีนๆ รัก เจ้าบิวตี้ๆ\n",
      "เจ้ากรีนๆ รัก เจ้าแป้งๆ\n",
      "เจ้าเล็กๆ รัก เจ้าปิงๆ\n",
      "เจ้าเล็กๆ รัก เจ้ากรีนๆ\n",
      "เจ้าเล็กๆ รัก เจ้าเล็กๆ\n",
      "เจ้าเล็กๆ รัก เจ้าฝ้ายๆ\n",
      "เจ้าเล็กๆ รัก เจ้าบิวตี้ๆ\n",
      "เจ้าเล็กๆ รัก เจ้าแป้งๆ\n",
      "เจ้าฝ้ายๆ รัก เจ้าปิงๆ\n",
      "เจ้าฝ้ายๆ รัก เจ้ากรีนๆ\n",
      "เจ้าฝ้ายๆ รัก เจ้าเล็กๆ\n",
      "เจ้าฝ้ายๆ รัก เจ้าฝ้ายๆ\n",
      "เจ้าฝ้ายๆ รัก เจ้าบิวตี้ๆ\n",
      "เจ้าฝ้ายๆ รัก เจ้าแป้งๆ\n",
      "เจ้าบิวตี้ๆ รัก เจ้าปิงๆ\n",
      "เจ้าบิวตี้ๆ รัก เจ้ากรีนๆ\n",
      "เจ้าบิวตี้ๆ รัก เจ้าเล็กๆ\n",
      "เจ้าบิวตี้ๆ รัก เจ้าฝ้ายๆ\n",
      "เจ้าบิวตี้ๆ รัก เจ้าบิวตี้ๆ\n",
      "เจ้าบิวตี้ๆ รัก เจ้าแป้งๆ\n",
      "เจ้าแป้งๆ รัก เจ้าปิงๆ\n",
      "เจ้าแป้งๆ รัก เจ้ากรีนๆ\n",
      "เจ้าแป้งๆ รัก เจ้าเล็กๆ\n",
      "เจ้าแป้งๆ รัก เจ้าฝ้ายๆ\n",
      "เจ้าแป้งๆ รัก เจ้าบิวตี้ๆ\n",
      "เจ้าแป้งๆ รัก เจ้าแป้งๆ\n"
     ]
    }
   ],
   "source": [
    "for name1 in friend_list:\n",
    "    for name2 in friend_list:\n",
    "        if name1 != name:\n",
    "            print_feeling(name1,'รัก',name2)"
   ]
  },
  {
   "cell_type": "code",
   "execution_count": 131,
   "metadata": {},
   "outputs": [
    {
     "name": "stdout",
     "output_type": "stream",
     "text": [
      "Yes\n"
     ]
    }
   ],
   "source": [
    "if True:\n",
    "    print('Yes')"
   ]
  },
  {
   "cell_type": "code",
   "execution_count": 134,
   "metadata": {},
   "outputs": [],
   "source": [
    "if False:\n",
    "    print('NO')"
   ]
  },
  {
   "cell_type": "code",
   "execution_count": 135,
   "metadata": {},
   "outputs": [
    {
     "name": "stdout",
     "output_type": "stream",
     "text": [
      "NO\n"
     ]
    }
   ],
   "source": [
    "if False:\n",
    "    print('Yes')\n",
    "else:\n",
    "    print('NO')"
   ]
  },
  {
   "cell_type": "code",
   "execution_count": 137,
   "metadata": {},
   "outputs": [
    {
     "data": {
      "text/plain": [
       "True"
      ]
     },
     "execution_count": 137,
     "metadata": {},
     "output_type": "execute_result"
    }
   ],
   "source": [
    "1 == 1"
   ]
  },
  {
   "cell_type": "code",
   "execution_count": 138,
   "metadata": {},
   "outputs": [
    {
     "name": "stdout",
     "output_type": "stream",
     "text": [
      "1=1\n"
     ]
    }
   ],
   "source": [
    "if 1 == 1:\n",
    "    print('1=1')"
   ]
  },
  {
   "cell_type": "markdown",
   "metadata": {},
   "source": [
    "# HW\n",
    "เขียน function ตัดเกรด โดยที่ input เป็นคะแนน output เป็นเกรด(F-A)\n",
    "\n",
    "input = [1,50,65,90,101,-5,49]\n",
    "มากกว่าหรือเท่ากับ 50 เป็น D"
   ]
  },
  {
   "cell_type": "code",
   "execution_count": 3,
   "metadata": {},
   "outputs": [
    {
     "data": {
      "text/plain": [
       "[1, 50, 65, 90, 101, -5, 49]"
      ]
     },
     "execution_count": 3,
     "metadata": {},
     "output_type": "execute_result"
    }
   ],
   "source": [
    "grade = [1,50,65,90,101,-5,49]\n",
    "grade"
   ]
  },
  {
   "cell_type": "code",
   "execution_count": 7,
   "metadata": {},
   "outputs": [
    {
     "name": "stdout",
     "output_type": "stream",
     "text": [
      "Grade is F\n",
      "Grade is D\n",
      "Grade is C+\n",
      "Grade is A\n",
      "Grade is error\n",
      "Grade is error\n",
      "Grade is F\n"
     ]
    }
   ],
   "source": [
    "for a in grade:\n",
    "    if a > 100:\n",
    "        print ('Grade is error')\n",
    "    elif a > 79:\n",
    "        print ('Grade is A')\n",
    "    elif a > 74:\n",
    "        print ('Grade is B+')\n",
    "    elif a > 69:\n",
    "        print ('Grade is B')\n",
    "    elif a > 64:\n",
    "        print ('Grade is C+')\n",
    "    elif a > 59:\n",
    "        print ('Grade is C')\n",
    "    elif a > 54:\n",
    "        print ('Grade is D+')\n",
    "    elif a > 49:\n",
    "        print ('Grade is D')\n",
    "    elif a > 0:\n",
    "        print ('Grade is F')\n",
    "    else:\n",
    "        print ('Grade is error')"
   ]
  },
  {
   "cell_type": "code",
   "execution_count": null,
   "metadata": {},
   "outputs": [],
   "source": []
  }
 ],
 "metadata": {
  "kernelspec": {
   "display_name": "Python 3",
   "language": "python",
   "name": "python3"
  },
  "language_info": {
   "codemirror_mode": {
    "name": "ipython",
    "version": 3
   },
   "file_extension": ".py",
   "mimetype": "text/x-python",
   "name": "python",
   "nbconvert_exporter": "python",
   "pygments_lexer": "ipython3",
   "version": "3.7.3"
  }
 },
 "nbformat": 4,
 "nbformat_minor": 2
}
